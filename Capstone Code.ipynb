{
 "cells": [
  {
   "cell_type": "code",
   "execution_count": 28,
   "id": "a7f18929",
   "metadata": {},
   "outputs": [],
   "source": [
    "import pandas as pd\n",
    "import geopandas as gpd\n",
    "from fuzzywuzzy import fuzz, process\n",
    "import numpy as np\n",
    "from geopy.geocoders import Nominatim\n",
    "import re"
   ]
  },
  {
   "cell_type": "code",
   "execution_count": 29,
   "id": "856fb486",
   "metadata": {},
   "outputs": [],
   "source": [
    "#reading in master data set, splitting it into residences and people\n",
    "herve = pd.read_csv('../data/HERVE PLUS.csv', dtype={'PropZip':'object'})\n",
    "for col in herve.columns:\n",
    "    herve[col] = herve[col].replace('�',np.nan)\n",
    "    herve[col] = herve[col].replace('\t','')\n",
    "\n",
    "residences = pd.DataFrame()\n",
    "residences['address'] = herve['PropHouse'].str.strip().str.upper()+ ' ' +herve['PropStreet'].str.strip().str.upper()\n",
    "residences['zip'] = herve['PropZip'].str.strip()\n",
    "\n",
    "people = pd.DataFrame()\n",
    "names = herve['Resident First'].str.strip().str.upper() + ' ' + herve['Resident Last'].str.strip().str.upper()\n",
    "names = names.dropna().unique().tolist()\n",
    "people['name'] = names"
   ]
  },
  {
   "cell_type": "code",
   "execution_count": 30,
   "id": "b0b3dc08",
   "metadata": {},
   "outputs": [],
   "source": [
    "#using fuzzywuzzy process matching to find duplicates based on minimum-edit distance, then dropping these extras\n",
    "matches = []\n",
    "\n",
    "for name in people['name'].tolist():\n",
    "    match = process.extract(name, people['name'].tolist())\n",
    "    \n",
    "    for each in match:\n",
    "        if each[1] >= 90 and each[1] < 100:\n",
    "            matches.append(each[0])\n",
    "        else:\n",
    "            continue\n",
    "\n",
    "duplicates = [matches[i] for i in range(len(matches)) if i%2 == 1] \n",
    "people = people.query(\"name not in @duplicates\")"
   ]
  },
  {
   "cell_type": "code",
   "execution_count": 4,
   "id": "b7a497c8",
   "metadata": {},
   "outputs": [
    {
     "name": "stdout",
     "output_type": "stream",
     "text": [
      "<class 'pandas.core.frame.DataFrame'>\n",
      "RangeIndex: 1708 entries, 0 to 1707\n",
      "Data columns (total 2 columns):\n",
      " #   Column   Non-Null Count  Dtype \n",
      "---  ------   --------------  ----- \n",
      " 0   address  1707 non-null   object\n",
      " 1   zip      1245 non-null   object\n",
      "dtypes: object(2)\n",
      "memory usage: 26.8+ KB\n"
     ]
    }
   ],
   "source": [
    "\n",
    "residences.info()"
   ]
  },
  {
   "cell_type": "code",
   "execution_count": 5,
   "id": "66478ead",
   "metadata": {
    "scrolled": false
   },
   "outputs": [],
   "source": [
    "#using nominatum to find missing zipcodes\n",
    "\n",
    "residences['zip'].fillna('0',inplace=True)\n",
    "residences = residences.drop_duplicates().dropna()\n",
    "residences.loc[residences['zip']=='x','zip'] = '0'\n",
    "residences['zip'] = residences['zip'].astype('int64')\n",
    "geolocator = Nominatim(user_agent=\"capstone\")\n",
    "\n",
    "for ind, row in residences[residences['zip']==0].iterrows():\n",
    "    partial_address = row['address']\n",
    "    try:\n",
    "        geo = geolocator.geocode(partial_address + ', Nashville')\n",
    "        full_address = geo.address\n",
    "        zipcode = re.search('(?<=, )[0-9]{5}', full_address)[0]\n",
    "        residences.loc[residences['address']==row['address'], 'zip'] = zipcode\n",
    "        residences.loc[residences['address']==row['address'], 'lat'] = geo.latitude\n",
    "        residences.loc[residences['address']==row['address'], 'lon'] = geo.longitude\n",
    "        \n",
    "    except:\n",
    "        continue\n",
    "    \n",
    "\n",
    "        \n",
    "    "
   ]
  },
  {
   "cell_type": "code",
   "execution_count": 6,
   "id": "e2df654b",
   "metadata": {},
   "outputs": [
    {
     "name": "stdout",
     "output_type": "stream",
     "text": [
      "<class 'pandas.core.frame.DataFrame'>\n",
      "Int64Index: 1679 entries, 0 to 1707\n",
      "Data columns (total 4 columns):\n",
      " #   Column   Non-Null Count  Dtype  \n",
      "---  ------   --------------  -----  \n",
      " 0   address  1679 non-null   object \n",
      " 1   zip      1679 non-null   object \n",
      " 2   lat      345 non-null    float64\n",
      " 3   lon      345 non-null    float64\n",
      "dtypes: float64(2), object(2)\n",
      "memory usage: 65.6+ KB\n"
     ]
    }
   ],
   "source": [
    "\n",
    "residences.info()"
   ]
  },
  {
   "cell_type": "code",
   "execution_count": 7,
   "id": "70f9a735",
   "metadata": {},
   "outputs": [
    {
     "data": {
      "text/plain": [
       "37211    443\n",
       "37214    164\n",
       "37211    133\n",
       "0        107\n",
       "37204    105\n",
       "        ... \n",
       "37143      1\n",
       "37208      1\n",
       "54541      1\n",
       "38475      1\n",
       "37115      1\n",
       "Name: zip, Length: 65, dtype: int64"
      ]
     },
     "execution_count": 7,
     "metadata": {},
     "output_type": "execute_result"
    }
   ],
   "source": [
    "residences['zip'].value_counts()"
   ]
  },
  {
   "cell_type": "code",
   "execution_count": 8,
   "id": "a8a31f1d",
   "metadata": {},
   "outputs": [],
   "source": [
    "residences.to_csv('../data/residences.csv')"
   ]
  },
  {
   "cell_type": "code",
   "execution_count": 2,
   "id": "2b7c9034",
   "metadata": {},
   "outputs": [],
   "source": [
    "res = pd.read_csv('../data/residences.csv', index_col = 0)"
   ]
  },
  {
   "cell_type": "code",
   "execution_count": 3,
   "id": "e78c2730",
   "metadata": {},
   "outputs": [
    {
     "name": "stdout",
     "output_type": "stream",
     "text": [
      "<class 'pandas.core.frame.DataFrame'>\n",
      "Int64Index: 1679 entries, 0 to 1707\n",
      "Data columns (total 4 columns):\n",
      " #   Column   Non-Null Count  Dtype  \n",
      "---  ------   --------------  -----  \n",
      " 0   address  1679 non-null   object \n",
      " 1   zip      1679 non-null   int64  \n",
      " 2   lat      345 non-null    float64\n",
      " 3   lon      345 non-null    float64\n",
      "dtypes: float64(2), int64(1), object(1)\n",
      "memory usage: 65.6+ KB\n"
     ]
    }
   ],
   "source": [
    "res.info()"
   ]
  },
  {
   "cell_type": "code",
   "execution_count": null,
   "id": "788df410",
   "metadata": {
    "scrolled": false
   },
   "outputs": [],
   "source": [
    "#using nominatim to find coordinates\n",
    "\n",
    "geolocator = Nominatim(user_agent=\"capstone\")\n",
    "\n",
    "for ind, row in res[res['lat'].isna()].iterrows():\n",
    "    try:\n",
    "        geo = geolocator.geocode(row['address'] + ', ' + str(row['zip']))\n",
    "        res.loc[res['address']==row['address'], 'lat'] = geo.latitude\n",
    "        res.loc[res['address']==row['address'], 'lon'] = geo.longitude\n",
    "    except:\n",
    "        continue"
   ]
  },
  {
   "cell_type": "code",
   "execution_count": 5,
   "id": "cb1b71a9",
   "metadata": {},
   "outputs": [
    {
     "name": "stdout",
     "output_type": "stream",
     "text": [
      "<class 'pandas.core.frame.DataFrame'>\n",
      "Int64Index: 1679 entries, 0 to 1707\n",
      "Data columns (total 4 columns):\n",
      " #   Column   Non-Null Count  Dtype  \n",
      "---  ------   --------------  -----  \n",
      " 0   address  1679 non-null   object \n",
      " 1   zip      1679 non-null   int64  \n",
      " 2   lat      1383 non-null   float64\n",
      " 3   lon      1383 non-null   float64\n",
      "dtypes: float64(2), int64(1), object(1)\n",
      "memory usage: 65.6+ KB\n"
     ]
    }
   ],
   "source": [
    "#still missing ~300 coordinates\n",
    "res.info()"
   ]
  },
  {
   "cell_type": "code",
   "execution_count": 6,
   "id": "7e030692",
   "metadata": {},
   "outputs": [],
   "source": [
    "res.to_csv('../data/residences.csv')"
   ]
  },
  {
   "cell_type": "code",
   "execution_count": 7,
   "id": "4f1e658f",
   "metadata": {},
   "outputs": [],
   "source": [
    "res = pd.read_csv('../data/residences.csv')"
   ]
  },
  {
   "cell_type": "code",
   "execution_count": 8,
   "id": "ca0dee46",
   "metadata": {},
   "outputs": [
    {
     "name": "stdout",
     "output_type": "stream",
     "text": [
      "<class 'pandas.core.frame.DataFrame'>\n",
      "RangeIndex: 1674 entries, 0 to 1673\n",
      "Data columns (total 5 columns):\n",
      " #   Column      Non-Null Count  Dtype  \n",
      "---  ------      --------------  -----  \n",
      " 0   Unnamed: 0  1674 non-null   int64  \n",
      " 1   address     1674 non-null   object \n",
      " 2   zip         1674 non-null   int64  \n",
      " 3   lat         1417 non-null   float64\n",
      " 4   lon         1417 non-null   float64\n",
      "dtypes: float64(2), int64(2), object(1)\n",
      "memory usage: 65.5+ KB\n"
     ]
    }
   ],
   "source": [
    "res.info()"
   ]
  },
  {
   "cell_type": "code",
   "execution_count": 10,
   "id": "93b8c0b9",
   "metadata": {},
   "outputs": [],
   "source": [
    "res = res.drop(columns = 'Unnamed: 0')"
   ]
  },
  {
   "cell_type": "code",
   "execution_count": 11,
   "id": "2f2f2313",
   "metadata": {
    "scrolled": true
   },
   "outputs": [
    {
     "name": "stdout",
     "output_type": "stream",
     "text": [
      "<class 'pandas.core.frame.DataFrame'>\n",
      "RangeIndex: 1674 entries, 0 to 1673\n",
      "Data columns (total 4 columns):\n",
      " #   Column   Non-Null Count  Dtype  \n",
      "---  ------   --------------  -----  \n",
      " 0   address  1674 non-null   object \n",
      " 1   zip      1674 non-null   int64  \n",
      " 2   lat      1417 non-null   float64\n",
      " 3   lon      1417 non-null   float64\n",
      "dtypes: float64(2), int64(1), object(1)\n",
      "memory usage: 52.4+ KB\n"
     ]
    }
   ],
   "source": [
    "res.info()"
   ]
  },
  {
   "cell_type": "code",
   "execution_count": 20,
   "id": "3cb1b7f3",
   "metadata": {},
   "outputs": [],
   "source": [
    "keys = pd.read_csv('../data/API.txt')"
   ]
  },
  {
   "cell_type": "code",
   "execution_count": 21,
   "id": "1617eb8d",
   "metadata": {},
   "outputs": [],
   "source": [
    "import googlemaps\n",
    "\n",
    "gmap_key = keys.loc[keys['API']=='Google Maps', 'Key'].values[0]\n",
    "gmaps = googlemaps.Client(key=gmap_key)"
   ]
  },
  {
   "cell_type": "code",
   "execution_count": 24,
   "id": "3fd0db88",
   "metadata": {},
   "outputs": [],
   "source": [
    "#using google maps API to find remaining coordinates\n",
    "for ind, row in res[res['lat'].isna()].iterrows():\n",
    "    address = row['address'] + ', ' + str(row['zip'])\n",
    "    geo = gmaps.geocode(address)\n",
    "    lat = geo[0]['geometry']['location']['lat']\n",
    "    lon = geo[0]['geometry']['location']['lng']\n",
    "    res.loc[res['address']==row['address'], 'lat'] = lat\n",
    "    res.loc[res['address']==row['address'], 'lon'] = lon"
   ]
  },
  {
   "cell_type": "code",
   "execution_count": 25,
   "id": "96f16fe9",
   "metadata": {},
   "outputs": [
    {
     "name": "stdout",
     "output_type": "stream",
     "text": [
      "<class 'pandas.core.frame.DataFrame'>\n",
      "RangeIndex: 1674 entries, 0 to 1673\n",
      "Data columns (total 4 columns):\n",
      " #   Column   Non-Null Count  Dtype  \n",
      "---  ------   --------------  -----  \n",
      " 0   address  1674 non-null   object \n",
      " 1   zip      1674 non-null   int64  \n",
      " 2   lat      1674 non-null   float64\n",
      " 3   lon      1674 non-null   float64\n",
      "dtypes: float64(2), int64(1), object(1)\n",
      "memory usage: 52.4+ KB\n"
     ]
    }
   ],
   "source": [
    "res.info()"
   ]
  },
  {
   "cell_type": "code",
   "execution_count": 26,
   "id": "a66655cf",
   "metadata": {},
   "outputs": [],
   "source": [
    "res.to_csv('../data/residences.csv')"
   ]
  },
  {
   "cell_type": "code",
   "execution_count": 31,
   "id": "88fb5ecd",
   "metadata": {},
   "outputs": [
    {
     "name": "stdout",
     "output_type": "stream",
     "text": [
      "<class 'pandas.core.frame.DataFrame'>\n",
      "Int64Index: 537 entries, 0 to 538\n",
      "Data columns (total 1 columns):\n",
      " #   Column  Non-Null Count  Dtype \n",
      "---  ------  --------------  ----- \n",
      " 0   name    537 non-null    object\n",
      "dtypes: object(1)\n",
      "memory usage: 8.4+ KB\n"
     ]
    }
   ],
   "source": [
    "people.info()"
   ]
  },
  {
   "cell_type": "code",
   "execution_count": 32,
   "id": "f682aa67",
   "metadata": {},
   "outputs": [],
   "source": [
    "people.to_csv('../data/people.csv')"
   ]
  },
  {
   "cell_type": "code",
   "execution_count": null,
   "id": "1bd5c4f1",
   "metadata": {},
   "outputs": [],
   "source": []
  }
 ],
 "metadata": {
  "kernelspec": {
   "display_name": "Python 3",
   "language": "python",
   "name": "python3"
  },
  "language_info": {
   "codemirror_mode": {
    "name": "ipython",
    "version": 3
   },
   "file_extension": ".py",
   "mimetype": "text/x-python",
   "name": "python",
   "nbconvert_exporter": "python",
   "pygments_lexer": "ipython3",
   "version": "3.8.10"
  }
 },
 "nbformat": 4,
 "nbformat_minor": 5
}
