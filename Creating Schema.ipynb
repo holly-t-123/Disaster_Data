{
 "cells": [
  {
   "cell_type": "code",
   "execution_count": 126,
   "id": "ff2a47e3",
   "metadata": {},
   "outputs": [],
   "source": [
    "import pandas as pd\n",
    "import numpy as np\n",
    "import difflib\n",
    "import googlemaps\n"
   ]
  },
  {
   "cell_type": "code",
   "execution_count": 127,
   "id": "212369b5",
   "metadata": {},
   "outputs": [],
   "source": [
    "residences = pd.DataFrame(columns=['address', 'zipcode', 'latitude', 'longitude'])\n",
    "\n",
    "survivors = pd.DataFrame(columns=['name'])\n",
    "\n",
    "contact_info = pd.DataFrame(columns=['survivor_id', 'contact_info'])\n",
    "\n",
    "contact_points = pd.DataFrame(columns = ['residence_id', 'survivor_id', 'date', \n",
    "                                         'water_lvl', 'damage_lvl', 'notes1', 'notes2', \n",
    "                                         'notes3', 'intaker'])\n",
    "\n",
    "keys = pd.read_csv('../data/API.txt')\n",
    "gmap_key = keys.loc[keys['API']=='Google Maps', 'Key'].values[0]\n",
    "gmaps = googlemaps.Client(key=gmap_key)"
   ]
  },
  {
   "cell_type": "code",
   "execution_count": 128,
   "id": "dca57131",
   "metadata": {
    "scrolled": true
   },
   "outputs": [],
   "source": [
    "def find_or_add_residence(address):\n",
    "    global residences\n",
    "    try:\n",
    "        geo = gmaps.geocode(address+', TN')\n",
    "        lat = geo[0]['geometry']['location']['lat']\n",
    "        lon = geo[0]['geometry']['location']['lng']\n",
    "        zipcode = geo[0]['address_components'][-1]['long_name']\n",
    "\n",
    "        coord_search = residences[(residences['latitude']==lat) & (residences['longitude']==lon)]\n",
    "\n",
    "        if coord_search.shape[0] == 0:\n",
    "            residences = residences.append({'address':address, 'latitude':lat, \n",
    "                                            'longitude':lon, 'zipcode':zipcode},\n",
    "                                           ignore_index=True)\n",
    "            res_id = residences.shape[0] - 1\n",
    "            return res_id \n",
    "        else:\n",
    "            res_id = coord_search.index.values[0]\n",
    "            return res_id\n",
    "    except:\n",
    "        print(address)\n",
    "        return address"
   ]
  },
  {
   "cell_type": "code",
   "execution_count": 129,
   "id": "00985fc5",
   "metadata": {},
   "outputs": [],
   "source": [
    "def find_or_add_survivor(**kwargs):\n",
    "    global survivors\n",
    "    global contact_info\n",
    "    \n",
    "    name = kwargs['name'].upper().strip()\n",
    "    name_search = survivors[survivors['name']==name]\n",
    "    \n",
    "    if name_search.shape[0] != 0:\n",
    "        surv_id = name_search.index.values[0]\n",
    "        \n",
    "    elif len(difflib.get_close_matches(name, survivors['name'], n=1, cutoff=0.90)) > 0:\n",
    "        match = difflib.get_close_matches(name, survivors['name'], n=1, cutoff=0.90)[0]\n",
    "        choice = ''\n",
    "        \n",
    "        while choice == '':\n",
    "        \n",
    "            choice = input(f'You entered {name}. Did you mean: {match}? Type Y or N. \\n')\n",
    "\n",
    "            if choice in ['Y','y']:\n",
    "                surv_id = survivors.loc[survivors['name']==match].index.values[0]\n",
    "\n",
    "            elif choice in ['N','n']:\n",
    "                survivors = survivors.append({'name':name},ignore_index=True)\n",
    "                surv_id = residences.shape[0] - 1\n",
    "\n",
    "            else:\n",
    "                choice = ''    \n",
    "    else:\n",
    "        survivors = survivors.append({'name':name},ignore_index=True)\n",
    "        surv_id = survivors.shape[0] - 1\n",
    "    \n",
    "    for k,v in kwargs.items():\n",
    "        if k != 'name':\n",
    "            contact_info = contact_info.append({'survivor_id':surv_id, 'contact_info':v}, ignore_index=True)\n",
    "    \n",
    "    return surv_id\n",
    "        "
   ]
  },
  {
   "cell_type": "code",
   "execution_count": 130,
   "id": "0fb1a566",
   "metadata": {},
   "outputs": [],
   "source": [
    "def create_contact_point(**kwargs):\n",
    "    global contact_points\n",
    "    contact_points = contact_points.append(kwargs, ignore_index=True)\n",
    "\n",
    "    "
   ]
  },
  {
   "cell_type": "code",
   "execution_count": 133,
   "id": "99ceff48",
   "metadata": {},
   "outputs": [],
   "source": [
    "nash_codes = pd.read_csv('../data/CodesDamageAssessment_4_15_21.csv', parse_dates=['CreationDate'], \n",
    "                         dtype={'Address':'object','Extent of Damage':'object','Type of Structure':'object',\n",
    "                                'Water Level':'float64','Note':'object','Creator':'object'})\n",
    "nash_codes = nash_codes.dropna(subset=['Address'])\n",
    "nash_codes = nash_codes.drop_duplicates(ignore_index=True)\n",
    "\n",
    "mask = (nash_codes['Type of Structure']=='Residential') & (nash_codes['Extent of Damage'] != 'None')\n",
    "for ind, row in nash_codes[mask].iterrows():\n",
    "    add = row['Address'].upper().strip()\n",
    "    res_id = find_or_add_residence(address=add)\n",
    "    surv_id = None\n",
    "    create_contact_point(residence_id = res_id, survivor_id = surv_id, \n",
    "                         date = row['CreationDate'], water_lvl = row['Water Level'], \n",
    "                         damage_lvl = row['Extent of Damage'], notes1=row['Notes'], \n",
    "                         intaker='Nashville Codes: ' + row['Creator'])"
   ]
  },
  {
   "cell_type": "code",
   "execution_count": 134,
   "id": "d113b1d8",
   "metadata": {
    "scrolled": true
   },
   "outputs": [
    {
     "name": "stdout",
     "output_type": "stream",
     "text": [
      "CONTACT POINTS\n",
      "<class 'pandas.core.frame.DataFrame'>\n",
      "RangeIndex: 610 entries, 0 to 609\n",
      "Data columns (total 9 columns):\n",
      " #   Column        Non-Null Count  Dtype         \n",
      "---  ------        --------------  -----         \n",
      " 0   residence_id  610 non-null    object        \n",
      " 1   survivor_id   26 non-null     object        \n",
      " 2   date          610 non-null    datetime64[ns]\n",
      " 3   water_lvl     258 non-null    object        \n",
      " 4   damage_lvl    610 non-null    object        \n",
      " 5   notes1        267 non-null    object        \n",
      " 6   notes2        220 non-null    object        \n",
      " 7   notes3        220 non-null    object        \n",
      " 8   intaker       610 non-null    object        \n",
      "dtypes: datetime64[ns](1), object(8)\n",
      "memory usage: 43.0+ KB\n",
      "\n",
      "RESIDENCES\n",
      "<class 'pandas.core.frame.DataFrame'>\n",
      "RangeIndex: 522 entries, 0 to 521\n",
      "Data columns (total 4 columns):\n",
      " #   Column     Non-Null Count  Dtype  \n",
      "---  ------     --------------  -----  \n",
      " 0   address    522 non-null    object \n",
      " 1   zipcode    522 non-null    object \n",
      " 2   latitude   522 non-null    float64\n",
      " 3   longitude  522 non-null    float64\n",
      "dtypes: float64(2), object(2)\n",
      "memory usage: 16.4+ KB\n",
      "\n",
      "SURVIVORS\n",
      "<class 'pandas.core.frame.DataFrame'>\n",
      "RangeIndex: 25 entries, 0 to 24\n",
      "Data columns (total 1 columns):\n",
      " #   Column  Non-Null Count  Dtype \n",
      "---  ------  --------------  ----- \n",
      " 0   name    25 non-null     object\n",
      "dtypes: object(1)\n",
      "memory usage: 328.0+ bytes\n"
     ]
    },
    {
     "data": {
      "text/plain": [
       "(None, None, None, None, None, None)"
      ]
     },
     "execution_count": 134,
     "metadata": {},
     "output_type": "execute_result"
    }
   ],
   "source": [
    "print('CONTACT POINTS'), contact_points.info(), print('\\nRESIDENCES'), residences.info(), print('\\nSURVIVORS'), survivors.info()"
   ]
  },
  {
   "cell_type": "code",
   "execution_count": 135,
   "id": "9b62faf3",
   "metadata": {},
   "outputs": [
    {
     "name": "stdout",
     "output_type": "stream",
     "text": [
      "140 CHEROKEE HILLS DR\n",
      "50053 MITCHELL DR\n"
     ]
    }
   ],
   "source": [
    "oem = pd.read_csv('../data/OEM_4_12_21.csv', \n",
    "                         dtype={'PropHouse':'object','PropZip':'object','PropStreet':'object',\n",
    "                                'Extent of Damage':'object','Water Level':'object','Notes':'object',\n",
    "                                'Damage 2':'object'})\n",
    "\n",
    "oem = oem.fillna('')\n",
    "oem = oem.drop_duplicates(ignore_index=True)\n",
    "\n",
    "mask = oem['Extent of Damage'] != 'None'\n",
    "for ind, row in oem[mask].iterrows():\n",
    "    add = row['PropHouse'].upper().strip() + ' ' + row['PropStreet'].upper().strip()\n",
    "    res_id = find_or_add_residence(address=add)\n",
    "    surv_id = None\n",
    "    create_contact_point(residence_id = res_id, survivor_id = surv_id, date = pd.to_datetime('2021-04-12'), \n",
    "                         water_lvl = row['Water Level'], damage_lvl = row['Extent of Damage'], \n",
    "                         notes1='NOTES: '+row['Notes'], notes2='DAMAGE 2: ' + row['Damage 2'], intaker='OEM')"
   ]
  },
  {
   "cell_type": "code",
   "execution_count": 136,
   "id": "12f5d9de",
   "metadata": {
    "scrolled": true
   },
   "outputs": [
    {
     "name": "stdout",
     "output_type": "stream",
     "text": [
      "CONTACT POINTS\n",
      "<class 'pandas.core.frame.DataFrame'>\n",
      "RangeIndex: 852 entries, 0 to 851\n",
      "Data columns (total 9 columns):\n",
      " #   Column        Non-Null Count  Dtype         \n",
      "---  ------        --------------  -----         \n",
      " 0   residence_id  852 non-null    object        \n",
      " 1   survivor_id   26 non-null     object        \n",
      " 2   date          852 non-null    datetime64[ns]\n",
      " 3   water_lvl     500 non-null    object        \n",
      " 4   damage_lvl    852 non-null    object        \n",
      " 5   notes1        509 non-null    object        \n",
      " 6   notes2        462 non-null    object        \n",
      " 7   notes3        220 non-null    object        \n",
      " 8   intaker       852 non-null    object        \n",
      "dtypes: datetime64[ns](1), object(8)\n",
      "memory usage: 60.0+ KB\n",
      "\n",
      "RESIDENCES\n",
      "<class 'pandas.core.frame.DataFrame'>\n",
      "RangeIndex: 701 entries, 0 to 700\n",
      "Data columns (total 4 columns):\n",
      " #   Column     Non-Null Count  Dtype  \n",
      "---  ------     --------------  -----  \n",
      " 0   address    701 non-null    object \n",
      " 1   zipcode    701 non-null    object \n",
      " 2   latitude   701 non-null    float64\n",
      " 3   longitude  701 non-null    float64\n",
      "dtypes: float64(2), object(2)\n",
      "memory usage: 22.0+ KB\n",
      "\n",
      "SURVIVORS\n",
      "<class 'pandas.core.frame.DataFrame'>\n",
      "RangeIndex: 25 entries, 0 to 24\n",
      "Data columns (total 1 columns):\n",
      " #   Column  Non-Null Count  Dtype \n",
      "---  ------  --------------  ----- \n",
      " 0   name    25 non-null     object\n",
      "dtypes: object(1)\n",
      "memory usage: 328.0+ bytes\n"
     ]
    },
    {
     "data": {
      "text/plain": [
       "(None, None, None, None, None, None)"
      ]
     },
     "execution_count": 136,
     "metadata": {},
     "output_type": "execute_result"
    }
   ],
   "source": [
    "print('CONTACT POINTS'), contact_points.info(), print('\\nRESIDENCES'), residences.info(), print('\\nSURVIVORS'), survivors.info()"
   ]
  },
  {
   "cell_type": "code",
   "execution_count": 131,
   "id": "e2050378",
   "metadata": {},
   "outputs": [],
   "source": [
    "nerve_4_9 = pd.read_csv('../data/NERVE_040921.csv', parse_dates=[10],\n",
    "                         dtype={'Street No.':'object','Street':'object','First Name':'object','Last Name':'object',\n",
    "                                'Email':'object','Phone Number':'object','Structure Damage Level':'object',\n",
    "                                'Property Damage Described':'object','Comments':'object',\n",
    "                                'Other - Property Damage Described':'object'})\n",
    "nerve_4_9 = nerve_4_9.fillna('')\n",
    "nerve_4_9 = nerve_4_9.drop_duplicates(ignore_index=True)\n",
    "\n",
    "for ind, row in nerve_4_9.iterrows():\n",
    "    add = row['Street No.'].upper().strip() + ' ' + row['Street'].upper().strip()\n",
    "    res_id = find_or_add_residence(address=add)\n",
    "    name = row['First Name'] + ' ' + row['Last Name'].upper().strip()\n",
    "    \n",
    "    if name == ' ':\n",
    "        surv_id = None\n",
    "    else:\n",
    "        surv_id = find_or_add_survivor(name = name, contact_1 = row['Phone Number'].strip(), contact_2 = row['Email'].strip())\n",
    "    \n",
    "    create_contact_point(residence_id = res_id, survivor_id = surv_id, date = row['CreationDate'], \n",
    "                         damage_lvl = row['Structure Damage Level'], intaker='NERVE: Self Reported',\n",
    "                         notes1='Property Damage Described: ' + row['Property Damage Described'], \n",
    "                         notes2 = 'Comments:' + row['Comments'], \n",
    "                         notes3 = 'Other - Property Damage Described: ' + row['Other - Property Damage Described'])"
   ]
  },
  {
   "cell_type": "code",
   "execution_count": 132,
   "id": "fca844ae",
   "metadata": {},
   "outputs": [
    {
     "name": "stdout",
     "output_type": "stream",
     "text": [
      "CONTACT POINTS\n",
      "<class 'pandas.core.frame.DataFrame'>\n",
      "RangeIndex: 220 entries, 0 to 219\n",
      "Data columns (total 9 columns):\n",
      " #   Column        Non-Null Count  Dtype         \n",
      "---  ------        --------------  -----         \n",
      " 0   residence_id  220 non-null    object        \n",
      " 1   survivor_id   26 non-null     object        \n",
      " 2   date          220 non-null    datetime64[ns]\n",
      " 3   water_lvl     0 non-null      object        \n",
      " 4   damage_lvl    220 non-null    object        \n",
      " 5   notes1        220 non-null    object        \n",
      " 6   notes2        220 non-null    object        \n",
      " 7   notes3        220 non-null    object        \n",
      " 8   intaker       220 non-null    object        \n",
      "dtypes: datetime64[ns](1), object(8)\n",
      "memory usage: 15.6+ KB\n",
      "\n",
      "RESIDENCES\n",
      "<class 'pandas.core.frame.DataFrame'>\n",
      "RangeIndex: 183 entries, 0 to 182\n",
      "Data columns (total 4 columns):\n",
      " #   Column     Non-Null Count  Dtype  \n",
      "---  ------     --------------  -----  \n",
      " 0   address    183 non-null    object \n",
      " 1   zipcode    183 non-null    object \n",
      " 2   latitude   183 non-null    float64\n",
      " 3   longitude  183 non-null    float64\n",
      "dtypes: float64(2), object(2)\n",
      "memory usage: 5.8+ KB\n",
      "\n",
      "SURVIVORS\n",
      "<class 'pandas.core.frame.DataFrame'>\n",
      "RangeIndex: 25 entries, 0 to 24\n",
      "Data columns (total 1 columns):\n",
      " #   Column  Non-Null Count  Dtype \n",
      "---  ------  --------------  ----- \n",
      " 0   name    25 non-null     object\n",
      "dtypes: object(1)\n",
      "memory usage: 328.0+ bytes\n"
     ]
    },
    {
     "data": {
      "text/plain": [
       "(None, None, None, None, None, None)"
      ]
     },
     "execution_count": 132,
     "metadata": {},
     "output_type": "execute_result"
    }
   ],
   "source": [
    "print('CONTACT POINTS'), contact_points.info(), print('\\nRESIDENCES'), residences.info(), print('\\nSURVIVORS'), survivors.info()"
   ]
  },
  {
   "cell_type": "code",
   "execution_count": 137,
   "id": "363fe377",
   "metadata": {},
   "outputs": [],
   "source": [
    "canvass_3_30 = pd.read_csv('../data/canvass_3_30.csv',\n",
    "                         dtype={'Street Number':'object','Street Name':'object','Name':'object',\n",
    "                                'Language Preference':'object','Saturday Help':'object',\n",
    "                                'Phone Number':'object','Notes':'object'})\n",
    "canvass_3_30 = canvass_3_30.fillna('')\n",
    "canvass_3_30 = canvass_3_30.drop_duplicates(ignore_index=True)\n",
    "\n",
    "for ind, row in canvass_3_30.iterrows():\n",
    "    add = row['Street Number'].upper().strip() + ' ' + row['Street Name'].upper().strip()\n",
    "    res_id = find_or_add_residence(address=add)\n",
    "    name = row['Name']\n",
    "    if name == '':\n",
    "        surv_id = None\n",
    "    else:\n",
    "        surv_id = find_or_add_survivor(name = name, contact_1 = row['Phone Number'].strip())\n",
    "    create_contact_point(residence_id = res_id, survivor_id = surv_id, date = pd.to_datetime('2021-03-31'),\n",
    "                         intaker='Canvass Volunteer from Hands On Nashville',\n",
    "                         notes1= 'Language Preference: ' + row['Language Preference'], \n",
    "                         notes2 = 'Notes' + row['Notes'], \n",
    "                         notes3 ='Followup: ' + row['Saturday Help'])"
   ]
  },
  {
   "cell_type": "code",
   "execution_count": 138,
   "id": "240b52a8",
   "metadata": {},
   "outputs": [
    {
     "name": "stdout",
     "output_type": "stream",
     "text": [
      "CONTACT POINTS\n",
      "<class 'pandas.core.frame.DataFrame'>\n",
      "RangeIndex: 891 entries, 0 to 890\n",
      "Data columns (total 9 columns):\n",
      " #   Column        Non-Null Count  Dtype         \n",
      "---  ------        --------------  -----         \n",
      " 0   residence_id  891 non-null    object        \n",
      " 1   survivor_id   59 non-null     object        \n",
      " 2   date          891 non-null    datetime64[ns]\n",
      " 3   water_lvl     500 non-null    object        \n",
      " 4   damage_lvl    852 non-null    object        \n",
      " 5   notes1        548 non-null    object        \n",
      " 6   notes2        501 non-null    object        \n",
      " 7   notes3        259 non-null    object        \n",
      " 8   intaker       891 non-null    object        \n",
      "dtypes: datetime64[ns](1), object(8)\n",
      "memory usage: 62.8+ KB\n",
      "\n",
      "RESIDENCES\n",
      "<class 'pandas.core.frame.DataFrame'>\n",
      "RangeIndex: 706 entries, 0 to 705\n",
      "Data columns (total 4 columns):\n",
      " #   Column     Non-Null Count  Dtype  \n",
      "---  ------     --------------  -----  \n",
      " 0   address    706 non-null    object \n",
      " 1   zipcode    706 non-null    object \n",
      " 2   latitude   706 non-null    float64\n",
      " 3   longitude  706 non-null    float64\n",
      "dtypes: float64(2), object(2)\n",
      "memory usage: 22.2+ KB\n",
      "\n",
      "SURVIVORS\n",
      "<class 'pandas.core.frame.DataFrame'>\n",
      "RangeIndex: 58 entries, 0 to 57\n",
      "Data columns (total 1 columns):\n",
      " #   Column  Non-Null Count  Dtype \n",
      "---  ------  --------------  ----- \n",
      " 0   name    58 non-null     object\n",
      "dtypes: object(1)\n",
      "memory usage: 592.0+ bytes\n"
     ]
    },
    {
     "data": {
      "text/plain": [
       "(None, None, None, None, None, None)"
      ]
     },
     "execution_count": 138,
     "metadata": {},
     "output_type": "execute_result"
    }
   ],
   "source": [
    "print('CONTACT POINTS'), contact_points.info(), print('\\nRESIDENCES'), residences.info(), print('\\nSURVIVORS'), survivors.info()"
   ]
  },
  {
   "cell_type": "code",
   "execution_count": 139,
   "id": "2a7da480",
   "metadata": {},
   "outputs": [],
   "source": [
    "canvass_4_2 = pd.read_csv('../data/canvass_4_2.csv', parse_dates=[2],\n",
    "                         dtype={'What is the house number?':'object','What is the street name?':'object',\n",
    "                                'Is there visible debris on the property?':'object','Resident Name':'object',\n",
    "                                'Resident phone number':'object','Language?':'object',\n",
    "                                'Was the home impacted? (Either can you see this visually or did the resident disclose?)':'object',\n",
    "                                'Does the resident want volunteers to assist with response?':'object',\n",
    "                                'Does the resident need any of the following?':'object'})\n",
    "\n",
    "canvass_4_2 = canvass_4_2.fillna('')\n",
    "canvass_4_2 = canvass_4_2.drop_duplicates(ignore_index=True)\n",
    "\n",
    "\n",
    "mask = canvass_4_2['Was the home impacted? (Either can you see this visually or did the resident disclose?)'] == 'Yes'\n",
    "for ind, row in canvass_4_2[mask].iterrows():\n",
    "    add = row['What is the house number?'].upper().strip() + ' ' + row['What is the street name?'].upper().strip()\n",
    "    res_id = find_or_add_residence(address=add)\n",
    "    name = row['Resident Name']\n",
    "    if name == '':\n",
    "        surv_id = None\n",
    "    else:\n",
    "        surv_id = find_or_add_survivor(name = name, contact_1 = row['Resident phone number'].strip())\n",
    "    create_contact_point(residence_id = res_id, survivor_id = surv_id, date = row['Completion time'],\n",
    "                         intaker='Canvass Volunteer from Hands On Nashville',\n",
    "                         notes1= 'Language: ' + row['Language?'], \n",
    "                         notes2 = 'Requested Assistance: ' + row['Does the resident want volunteers to assist with response?'], \n",
    "                         notes3 ='Specific Needs: ' + row['Does the resident need any of the following?'])"
   ]
  },
  {
   "cell_type": "code",
   "execution_count": 140,
   "id": "3a5ba186",
   "metadata": {},
   "outputs": [
    {
     "name": "stdout",
     "output_type": "stream",
     "text": [
      "CONTACT POINTS\n",
      "<class 'pandas.core.frame.DataFrame'>\n",
      "RangeIndex: 933 entries, 0 to 932\n",
      "Data columns (total 9 columns):\n",
      " #   Column        Non-Null Count  Dtype         \n",
      "---  ------        --------------  -----         \n",
      " 0   residence_id  933 non-null    object        \n",
      " 1   survivor_id   81 non-null     object        \n",
      " 2   date          933 non-null    datetime64[ns]\n",
      " 3   water_lvl     500 non-null    object        \n",
      " 4   damage_lvl    852 non-null    object        \n",
      " 5   notes1        590 non-null    object        \n",
      " 6   notes2        543 non-null    object        \n",
      " 7   notes3        301 non-null    object        \n",
      " 8   intaker       933 non-null    object        \n",
      "dtypes: datetime64[ns](1), object(8)\n",
      "memory usage: 65.7+ KB\n",
      "\n",
      "RESIDENCES\n",
      "<class 'pandas.core.frame.DataFrame'>\n",
      "RangeIndex: 713 entries, 0 to 712\n",
      "Data columns (total 4 columns):\n",
      " #   Column     Non-Null Count  Dtype  \n",
      "---  ------     --------------  -----  \n",
      " 0   address    713 non-null    object \n",
      " 1   zipcode    713 non-null    object \n",
      " 2   latitude   713 non-null    float64\n",
      " 3   longitude  713 non-null    float64\n",
      "dtypes: float64(2), object(2)\n",
      "memory usage: 22.4+ KB\n",
      "\n",
      "SURVIVORS\n",
      "<class 'pandas.core.frame.DataFrame'>\n",
      "RangeIndex: 79 entries, 0 to 78\n",
      "Data columns (total 1 columns):\n",
      " #   Column  Non-Null Count  Dtype \n",
      "---  ------  --------------  ----- \n",
      " 0   name    79 non-null     object\n",
      "dtypes: object(1)\n",
      "memory usage: 760.0+ bytes\n"
     ]
    },
    {
     "data": {
      "text/plain": [
       "(None, None, None, None, None, None)"
      ]
     },
     "execution_count": 140,
     "metadata": {},
     "output_type": "execute_result"
    }
   ],
   "source": [
    "print('CONTACT POINTS'), contact_points.info(), print('\\nRESIDENCES'), residences.info(), print('\\nSURVIVORS'), survivors.info()"
   ]
  },
  {
   "cell_type": "code",
   "execution_count": 141,
   "id": "480ced68",
   "metadata": {},
   "outputs": [
    {
     "name": "stdout",
     "output_type": "stream",
     "text": [
      "You entered PAUL  OAKLEY. Did you mean: PAUL OAKLEY? Type Y or N. \n",
      "Y\n",
      "You entered PAUL  OAKLEY. Did you mean: PAUL OAKLEY? Type Y or N. \n",
      "Y\n",
      "You entered PAUL  OAKLEY. Did you mean: PAUL OAKLEY? Type Y or N. \n",
      "Y\n",
      "You entered PAUL  OAKLEY. Did you mean: PAUL OAKLEY? Type Y or N. \n",
      "Y\n",
      "You entered PAUL  OAKLEY. Did you mean: PAUL OAKLEY? Type Y or N. \n",
      "y\n",
      "You entered PAUL  OAKLEY. Did you mean: PAUL OAKLEY? Type Y or N. \n",
      "y\n",
      "You entered PAUL  OAKLEY. Did you mean: PAUL OAKLEY? Type Y or N. \n",
      "y\n",
      "You entered PAUL  OAKLEY. Did you mean: PAUL OAKLEY? Type Y or N. \n",
      "y\n",
      "You entered PAUL  OAKLEY. Did you mean: PAUL OAKLEY? Type Y or N. \n",
      "y\n",
      "You entered THOMAS  YORK. Did you mean: THOMAS YORK? Type Y or N. \n",
      "y\n",
      "You entered MARK  HASTINGS. Did you mean: MARK HASTINGS? Type Y or N. \n",
      "y\n",
      "You entered BEN  HARRIS. Did you mean: BEN HARRIS? Type Y or N. \n",
      "y\n",
      "You entered JOSEPH  HAMRICK. Did you mean: JOSEPH HAMRICK? Type Y or N. \n",
      "y\n",
      "You entered HOMA ZIA. Did you mean: HOMA  ZIA? Type Y or N. \n",
      "y\n",
      "You entered GLORIA WRIGHT. Did you mean: GLORIA  WRIGH? Type Y or N. \n",
      "y\n",
      "You entered NATASHA SOLOMONS. Did you mean: NATASHA  SOLOMONS? Type Y or N. \n",
      "y\n",
      "You entered MARISA  ORTEGA. Did you mean: MARISA ORTEGA? Type Y or N. \n",
      "y\n",
      "You entered JUAN  JIMENEZ. Did you mean: JUAN JIMENEZ? Type Y or N. \n",
      "y\n",
      "You entered ANDREW  JORDAN. Did you mean: ANDREW JORDAN? Type Y or N. \n",
      "y\n",
      "You entered KATIE  CUMMINGS. Did you mean: KATIE CUMMINGS? Type Y or N. \n",
      "y\n",
      "You entered BROOKE  RAY. Did you mean: BROOKE RAY? Type Y or N. \n",
      "y\n",
      "You entered DELAINE WENDLING. Did you mean: DELAINE WENPLING? Type Y or N. \n",
      "y\n",
      "You entered JESSE  WALKER. Did you mean: JESSE WALKER? Type Y or N. \n",
      "y\n",
      "You entered WILLIAM DAVIS. Did you mean: WILLIAM  DAVIS? Type Y or N. \n",
      "y\n",
      "You entered LINDA ADDOCK. Did you mean: LINDA ADCOCK? Type Y or N. \n",
      "y\n"
     ]
    }
   ],
   "source": [
    "nash_responds = pd.read_csv('../data/nash_responds_4_6.csv',\n",
    "                         dtype={'First Name':'object','Last Name':'object','Address 1':'object',\n",
    "                                'Email':'object','Phone':'object','Request Details':'object'})\n",
    "nash_responds = nash_responds.drop_duplicates(ignore_index=True)\n",
    "\n",
    "\n",
    "\n",
    "for ind, row in nash_responds.iterrows():\n",
    "    add = row['Address 1'].upper().strip()\n",
    "    res_id = find_or_add_residence(address=add)\n",
    "    name = row['First Name'] + ' ' + row['Last Name']\n",
    "    \n",
    "    if name == ' ':\n",
    "        surv_id = None\n",
    "    else:\n",
    "        surv_id = find_or_add_survivor(name = name, contact_1 = row['Phone'].strip(), contact_2 = row['Email'])\n",
    "    \n",
    "    create_contact_point(residence_id = res_id, survivor_id = surv_id, date = pd.to_datetime('2021-04-06'), \n",
    "                         intaker='Nashville Responds: Self Reported',\n",
    "                         notes1='Request Details: ' + row['Request Details'])"
   ]
  },
  {
   "cell_type": "code",
   "execution_count": 142,
   "id": "5fe292a3",
   "metadata": {
    "scrolled": true
   },
   "outputs": [
    {
     "name": "stdout",
     "output_type": "stream",
     "text": [
      "CONTACT POINTS\n",
      "<class 'pandas.core.frame.DataFrame'>\n",
      "RangeIndex: 1152 entries, 0 to 1151\n",
      "Data columns (total 9 columns):\n",
      " #   Column        Non-Null Count  Dtype         \n",
      "---  ------        --------------  -----         \n",
      " 0   residence_id  1152 non-null   object        \n",
      " 1   survivor_id   300 non-null    object        \n",
      " 2   date          1152 non-null   datetime64[ns]\n",
      " 3   water_lvl     500 non-null    object        \n",
      " 4   damage_lvl    852 non-null    object        \n",
      " 5   notes1        809 non-null    object        \n",
      " 6   notes2        543 non-null    object        \n",
      " 7   notes3        301 non-null    object        \n",
      " 8   intaker       1152 non-null   object        \n",
      "dtypes: datetime64[ns](1), object(8)\n",
      "memory usage: 81.1+ KB\n",
      "\n",
      "RESIDENCES\n",
      "<class 'pandas.core.frame.DataFrame'>\n",
      "RangeIndex: 745 entries, 0 to 744\n",
      "Data columns (total 4 columns):\n",
      " #   Column     Non-Null Count  Dtype  \n",
      "---  ------     --------------  -----  \n",
      " 0   address    745 non-null    object \n",
      " 1   zipcode    745 non-null    object \n",
      " 2   latitude   745 non-null    float64\n",
      " 3   longitude  745 non-null    float64\n",
      "dtypes: float64(2), object(2)\n",
      "memory usage: 23.4+ KB\n",
      "\n",
      "SURVIVORS\n",
      "<class 'pandas.core.frame.DataFrame'>\n",
      "RangeIndex: 240 entries, 0 to 239\n",
      "Data columns (total 1 columns):\n",
      " #   Column  Non-Null Count  Dtype \n",
      "---  ------  --------------  ----- \n",
      " 0   name    240 non-null    object\n",
      "dtypes: object(1)\n",
      "memory usage: 2.0+ KB\n",
      "\n",
      "CONTACT INFO\n",
      "<class 'pandas.core.frame.DataFrame'>\n",
      "RangeIndex: 545 entries, 0 to 544\n",
      "Data columns (total 2 columns):\n",
      " #   Column        Non-Null Count  Dtype \n",
      "---  ------        --------------  ----- \n",
      " 0   survivor_id   545 non-null    object\n",
      " 1   contact_info  467 non-null    object\n",
      "dtypes: object(2)\n",
      "memory usage: 8.6+ KB\n"
     ]
    },
    {
     "data": {
      "text/plain": [
       "(None, None, None, None, None, None, None, None)"
      ]
     },
     "execution_count": 142,
     "metadata": {},
     "output_type": "execute_result"
    }
   ],
   "source": [
    "print('CONTACT POINTS'), contact_points.info(), print('\\nRESIDENCES'), residences.info(), print('\\nSURVIVORS'), survivors.info(), print('\\nCONTACT INFO'), contact_info.info()"
   ]
  },
  {
   "cell_type": "code",
   "execution_count": 144,
   "id": "813bea3b",
   "metadata": {},
   "outputs": [],
   "source": [
    "survivors.to_csv('../data/survivors_table.csv')"
   ]
  },
  {
   "cell_type": "code",
   "execution_count": 145,
   "id": "66a3f4da",
   "metadata": {},
   "outputs": [],
   "source": [
    "residences.to_csv('../data/residences_table.csv')"
   ]
  },
  {
   "cell_type": "code",
   "execution_count": 146,
   "id": "41ca4d8a",
   "metadata": {},
   "outputs": [],
   "source": [
    "contact_info.to_csv('../contact_info_table.csv')"
   ]
  },
  {
   "cell_type": "code",
   "execution_count": 147,
   "id": "a8f152ec",
   "metadata": {},
   "outputs": [],
   "source": [
    "contact_points.to_csv('../data/contact_points_table.csv')"
   ]
  },
  {
   "cell_type": "code",
   "execution_count": null,
   "id": "5bcf5b19",
   "metadata": {},
   "outputs": [],
   "source": []
  }
 ],
 "metadata": {
  "kernelspec": {
   "display_name": "Python 3",
   "language": "python",
   "name": "python3"
  },
  "language_info": {
   "codemirror_mode": {
    "name": "ipython",
    "version": 3
   },
   "file_extension": ".py",
   "mimetype": "text/x-python",
   "name": "python",
   "nbconvert_exporter": "python",
   "pygments_lexer": "ipython3",
   "version": "3.8.10"
  }
 },
 "nbformat": 4,
 "nbformat_minor": 5
}
