{
 "cells": [
  {
   "cell_type": "code",
   "execution_count": 207,
   "id": "ff2a47e3",
   "metadata": {},
   "outputs": [],
   "source": [
    "import pandas as pd\n",
    "import numpy as np"
   ]
  },
  {
   "cell_type": "code",
   "execution_count": 208,
   "id": "212369b5",
   "metadata": {},
   "outputs": [],
   "source": [
    "residences = pd.DataFrame(columns=['id','address', 'zipcode', 'latitude', 'longitude'])\n",
    "survivors = pd.DataFrame(columns=['id', 'name', 'contact_1', 'contact_2', 'contact_3'])\n",
    "contact_points = pd.DataFrame(columns = ['residence_id', 'survivor_id', 'date', 'water_lvl', 'damage_lvl', 'notes', 'intaker'])"
   ]
  },
  {
   "cell_type": "code",
   "execution_count": 209,
   "id": "dca57131",
   "metadata": {
    "scrolled": true
   },
   "outputs": [],
   "source": [
    "def find_or_add_residence(address):\n",
    "    global residences\n",
    "    address = address.upper().strip()\n",
    "    if residences.shape[0]==0:\n",
    "        residences = residences.append({'id':0,'address':address, 'zipcode':np.nan, 'latitude':np.nan, 'longitude':np.nan}, ignore_index=True)\n",
    "        res_id = 0\n",
    "    else:\n",
    "        try:\n",
    "            res_id = residences.loc[residences['address'] == address,'id'].values[0]\n",
    "        except:\n",
    "            res_id = residences.shape[0]\n",
    "            residences.loc[res_id,'id'] = res_id\n",
    "            residences.loc[res_id,'address'] = address\n",
    "    return res_id"
   ]
  },
  {
   "cell_type": "code",
   "execution_count": 210,
   "id": "00985fc5",
   "metadata": {},
   "outputs": [],
   "source": [
    "def find_or_add_survivor(name, **kwargs):\n",
    "    global survivors\n",
    "    if name == None:\n",
    "        return None\n",
    "    else:\n",
    "        name = name.upper().strip()\n",
    "        try:\n",
    "            surv_id = people[people['name']==name].index\n",
    "        except:\n",
    "            people.iloc[people.shape[0],0] = name\n",
    "            surv_id = people[people['name'] == address].index\n",
    "        return surv_id\n",
    "        "
   ]
  },
  {
   "cell_type": "code",
   "execution_count": 211,
   "id": "0fb1a566",
   "metadata": {},
   "outputs": [],
   "source": [
    "def create_contact_point(**kwargs):\n",
    "    global contact_points\n",
    "    contact_points = contact_points.append(kwargs, ignore_index=True)\n",
    "    "
   ]
  },
  {
   "cell_type": "code",
   "execution_count": 212,
   "id": "99ceff48",
   "metadata": {},
   "outputs": [
    {
     "name": "stderr",
     "output_type": "stream",
     "text": [
      "E:\\Anaconda\\envs\\capstone\\lib\\site-packages\\IPython\\core\\interactiveshell.py:3165: DtypeWarning: Columns (4) have mixed types.Specify dtype option on import or set low_memory=False.\n",
      "  has_raised = await self.run_ast_nodes(code_ast.body, cell_name,\n"
     ]
    }
   ],
   "source": [
    "nash_codes = pd.read_csv('../data/CodesDamageAssessment_4_15_21.csv', parse_dates=['CreationDate'], dtype={'Address':'object','Extent of Damage':'object','Type of Structure':'object','Water Level':'float64','Note':'object','Creator':'object'})\n",
    "nash_codes = nash_codes.dropna(subset=['Address'])\n",
    "\n",
    "\n",
    "for ind, row in codes[codes['Type of Structure']=='Residential'].iterrows():\n",
    "    res_id = find_or_add_residence(row['Address'])\n",
    "    surv_id = find_or_add_survivor(None)\n",
    "    create_contact_point(residence_id = res_id, survivor_id = np.nan, date = row['CreationDate'], water_lvl = row['Water Level'], damage_lvl = row['Extent of Damage'], notes='Notes', intaker='Nashville Codes: ' + row['Creator'])"
   ]
  },
  {
   "cell_type": "code",
   "execution_count": 77,
   "id": "9b62faf3",
   "metadata": {},
   "outputs": [
    {
     "data": {
      "text/html": [
       "<div>\n",
       "<style scoped>\n",
       "    .dataframe tbody tr th:only-of-type {\n",
       "        vertical-align: middle;\n",
       "    }\n",
       "\n",
       "    .dataframe tbody tr th {\n",
       "        vertical-align: top;\n",
       "    }\n",
       "\n",
       "    .dataframe thead th {\n",
       "        text-align: right;\n",
       "    }\n",
       "</style>\n",
       "<table border=\"1\" class=\"dataframe\">\n",
       "  <thead>\n",
       "    <tr style=\"text-align: right;\">\n",
       "      <th></th>\n",
       "      <th>id</th>\n",
       "      <th>name</th>\n",
       "      <th>contact_1</th>\n",
       "      <th>contact_2</th>\n",
       "      <th>contact_3</th>\n",
       "    </tr>\n",
       "  </thead>\n",
       "  <tbody>\n",
       "  </tbody>\n",
       "</table>\n",
       "</div>"
      ],
      "text/plain": [
       "Empty DataFrame\n",
       "Columns: [id, name, contact_1, contact_2, contact_3]\n",
       "Index: []"
      ]
     },
     "execution_count": 77,
     "metadata": {},
     "output_type": "execute_result"
    }
   ],
   "source": []
  },
  {
   "cell_type": "code",
   "execution_count": 79,
   "id": "e2050378",
   "metadata": {},
   "outputs": [
    {
     "data": {
      "text/plain": [
       "(0, 7)"
      ]
     },
     "execution_count": 79,
     "metadata": {},
     "output_type": "execute_result"
    }
   ],
   "source": []
  },
  {
   "cell_type": "raw",
   "id": "23168ed6",
   "metadata": {},
   "source": []
  }
 ],
 "metadata": {
  "kernelspec": {
   "display_name": "Python 3",
   "language": "python",
   "name": "python3"
  },
  "language_info": {
   "codemirror_mode": {
    "name": "ipython",
    "version": 3
   },
   "file_extension": ".py",
   "mimetype": "text/x-python",
   "name": "python",
   "nbconvert_exporter": "python",
   "pygments_lexer": "ipython3",
   "version": "3.8.10"
  }
 },
 "nbformat": 4,
 "nbformat_minor": 5
}
