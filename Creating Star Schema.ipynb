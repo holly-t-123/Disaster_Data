{
 "cells": [
  {
   "cell_type": "code",
   "execution_count": 8,
   "id": "ff2a47e3",
   "metadata": {},
   "outputs": [],
   "source": [
    "import pandas as pd\n",
    "import numpy as np"
   ]
  },
  {
   "cell_type": "code",
   "execution_count": 9,
   "id": "212369b5",
   "metadata": {},
   "outputs": [],
   "source": [
    "residences = pd.DataFrame(columns=['id','address', 'zipcode', 'latitude', 'longitude'])\n",
    "survivors = pd.DataFrame(columns=['id', 'name', 'contact_1', 'contact_2', 'contact_3'])\n",
    "contact_points = pd.DataFrame(columns = ['residence_id', 'survivor_id', 'date', 'water_lvl', 'damage_lvl', 'notes', 'intaker'])"
   ]
  },
  {
   "cell_type": "code",
   "execution_count": 10,
   "id": "dca57131",
   "metadata": {
    "scrolled": true
   },
   "outputs": [],
   "source": [
    "def find_or_add_residence(address):\n",
    "    global residences\n",
    "    address = address.upper().strip()\n",
    "    if residences.shape[0]==0:\n",
    "        residences = residences.append({'id':0,'address':address, 'zipcode':np.nan, 'latitude':np.nan, 'longitude':np.nan}, ignore_index=True)\n",
    "        res_id = 0\n",
    "    else:\n",
    "        try:\n",
    "            res_id = residences.loc[residences['address'] == address,'id'].values[0]\n",
    "        except:\n",
    "            res_id = residences.shape[0]\n",
    "            residences.loc[res_id,'id'] = res_id\n",
    "            residences.loc[res_id,'address'] = address\n",
    "    return res_id"
   ]
  },
  {
   "cell_type": "code",
   "execution_count": 11,
   "id": "00985fc5",
   "metadata": {},
   "outputs": [],
   "source": [
    "def find_or_add_survivor(name, **kwargs):\n",
    "    global survivors\n",
    "    if name == None:\n",
    "        return None\n",
    "    else:\n",
    "        name = name.upper().strip()\n",
    "        try:\n",
    "            surv_id = people[people['name']==name].index\n",
    "        except:\n",
    "            people.iloc[people.shape[0],0] = name\n",
    "            surv_id = people[people['name'] == address].index\n",
    "        return surv_id\n",
    "        "
   ]
  },
  {
   "cell_type": "code",
   "execution_count": 12,
   "id": "0fb1a566",
   "metadata": {},
   "outputs": [],
   "source": [
    "def create_contact_point(**kwargs):\n",
    "    global contact_points\n",
    "    contact_points = contact_points.append(kwargs, ignore_index=True)\n",
    "    "
   ]
  },
  {
   "cell_type": "code",
   "execution_count": 13,
   "id": "99ceff48",
   "metadata": {},
   "outputs": [],
   "source": [
    "nash_codes = pd.read_csv('../data/CodesDamageAssessment_4_15_21.csv', parse_dates=['CreationDate'], \n",
    "                         dtype={'Address':'object','Extent of Damage':'object','Type of Structure':'object',\n",
    "                                'Water Level':'float64','Note':'object','Creator':'object'})\n",
    "nash_codes = nash_codes.dropna(subset=['Address'])\n",
    "\n",
    "mask = (nash_codes['Type of Structure']=='Residential') & (nash_codes['Extent of Damage'] != 'None')\n",
    "for ind, row in nash_codes[mask].iterrows():\n",
    "    res_id = find_or_add_residence(row['Address'])\n",
    "    surv_id = find_or_add_survivor(None)\n",
    "    create_contact_point(residence_id = res_id, survivor_id = np.nan, \n",
    "                         date = row['CreationDate'], water_lvl = row['Water Level'], \n",
    "                         damage_lvl = row['Extent of Damage'], notes=row['Notes'], \n",
    "                         intaker='Nashville Codes: ' + row['Creator'])"
   ]
  },
  {
   "cell_type": "code",
   "execution_count": 20,
   "id": "9b62faf3",
   "metadata": {},
   "outputs": [],
   "source": [
    "oem = pd.read_csv('../data/OEM_4_12_21.csv', \n",
    "                         dtype={'PropHouse':'object','PropZip':'object','PropStreet':'object',\n",
    "                                'Extent of Damage':'object','Water Level':'object','Notes':'object',\n",
    "                                'Damage 2':'object'})\n",
    "\n",
    "oem = oem.fillna('')\n",
    "\n",
    "mask = oem['Extent of Damage'] != 'None'\n",
    "for ind, row in oem[mask].iterrows():\n",
    "    address = row['PropHouse'] + ' ' + row['PropStreet']\n",
    "    res_id = find_or_add_residence(address)\n",
    "    surv_id = None\n",
    "    create_contact_point(residence_id = res_id, survivor_id = surv_id, date = pd.to_datetime('2021-04-12'), \n",
    "                         water_lvl = row['Water Level'], damage_lvl = row['Extent of Damage'], \n",
    "                         notes=row['Notes'] + row['Damage 2'], intaker='OEM')"
   ]
  },
  {
   "cell_type": "code",
   "execution_count": 21,
   "id": "e2050378",
   "metadata": {},
   "outputs": [
    {
     "name": "stdout",
     "output_type": "stream",
     "text": [
      "<class 'pandas.core.frame.DataFrame'>\n",
      "RangeIndex: 639 entries, 0 to 638\n",
      "Data columns (total 7 columns):\n",
      " #   Column        Non-Null Count  Dtype         \n",
      "---  ------        --------------  -----         \n",
      " 0   residence_id  639 non-null    object        \n",
      " 1   survivor_id   0 non-null      object        \n",
      " 2   date          639 non-null    datetime64[ns]\n",
      " 3   water_lvl     502 non-null    object        \n",
      " 4   damage_lvl    634 non-null    object        \n",
      " 5   notes         296 non-null    object        \n",
      " 6   intaker       639 non-null    object        \n",
      "dtypes: datetime64[ns](1), object(6)\n",
      "memory usage: 35.1+ KB\n"
     ]
    }
   ],
   "source": [
    "contact_points.info()"
   ]
  },
  {
   "cell_type": "raw",
   "id": "23168ed6",
   "metadata": {},
   "source": []
  }
 ],
 "metadata": {
  "kernelspec": {
   "display_name": "Python 3",
   "language": "python",
   "name": "python3"
  },
  "language_info": {
   "codemirror_mode": {
    "name": "ipython",
    "version": 3
   },
   "file_extension": ".py",
   "mimetype": "text/x-python",
   "name": "python",
   "nbconvert_exporter": "python",
   "pygments_lexer": "ipython3",
   "version": "3.8.10"
  }
 },
 "nbformat": 4,
 "nbformat_minor": 5
}
