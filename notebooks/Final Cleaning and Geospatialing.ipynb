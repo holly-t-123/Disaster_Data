{
 "cells": [
  {
   "cell_type": "code",
   "execution_count": 33,
   "id": "88745af2",
   "metadata": {},
   "outputs": [],
   "source": [
    "import geopandas as gpd\n",
    "import pandas as pd\n",
    "import matplotlib.pyplot as plt\n",
    "import pyproj\n",
    "import numpy as np"
   ]
  },
  {
   "cell_type": "code",
   "execution_count": 19,
   "id": "654d7cb1",
   "metadata": {},
   "outputs": [],
   "source": [
    "residences = pd.read_csv('../data/Schema/residences_table.csv', usecols=[1,2,3,4])\n",
    "contact_points = pd.read_csv('../data/Schema/contact_points_table.csv', usecols=[1,2,3,4,5,6,7,8,9])\n",
    "survivors = pd.read_csv('../data/Schema/survivors_table.csv', usecols=[1])\n",
    "contact_info = pd.read_csv('../data/Schema/contact_info_table.csv', usecols=[1,2])"
   ]
  },
  {
   "cell_type": "code",
   "execution_count": 20,
   "id": "c005cfb4",
   "metadata": {},
   "outputs": [
    {
     "name": "stdout",
     "output_type": "stream",
     "text": [
      "CONTACT POINTS\n",
      "<class 'pandas.core.frame.DataFrame'>\n",
      "RangeIndex: 1896 entries, 0 to 1895\n",
      "Data columns (total 9 columns):\n",
      " #   Column        Non-Null Count  Dtype  \n",
      "---  ------        --------------  -----  \n",
      " 0   residence_id  1886 non-null   object \n",
      " 1   survivor_id   1032 non-null   float64\n",
      " 2   date          1896 non-null   object \n",
      " 3   water_lvl     272 non-null    object \n",
      " 4   damage_lvl    1108 non-null   object \n",
      " 5   notes1        1553 non-null   object \n",
      " 6   notes2        1277 non-null   object \n",
      " 7   notes3        301 non-null    object \n",
      " 8   intaker       1896 non-null   object \n",
      "dtypes: float64(1), object(8)\n",
      "memory usage: 133.4+ KB\n",
      "\n",
      "RESIDENCES\n",
      "<class 'pandas.core.frame.DataFrame'>\n",
      "RangeIndex: 880 entries, 0 to 879\n",
      "Data columns (total 4 columns):\n",
      " #   Column     Non-Null Count  Dtype  \n",
      "---  ------     --------------  -----  \n",
      " 0   address    880 non-null    object \n",
      " 1   zipcode    880 non-null    int64  \n",
      " 2   latitude   880 non-null    float64\n",
      " 3   longitude  880 non-null    float64\n",
      "dtypes: float64(2), int64(1), object(1)\n",
      "memory usage: 27.6+ KB\n",
      "\n",
      "SURVIVORS\n",
      "<class 'pandas.core.frame.DataFrame'>\n",
      "RangeIndex: 650 entries, 0 to 649\n",
      "Data columns (total 1 columns):\n",
      " #   Column  Non-Null Count  Dtype \n",
      "---  ------  --------------  ----- \n",
      " 0   name    650 non-null    object\n",
      "dtypes: object(1)\n",
      "memory usage: 5.2+ KB\n",
      "\n",
      "CONTACT INFO\n",
      "<class 'pandas.core.frame.DataFrame'>\n",
      "RangeIndex: 1735 entries, 0 to 1734\n",
      "Data columns (total 2 columns):\n",
      " #   Column        Non-Null Count  Dtype \n",
      "---  ------        --------------  ----- \n",
      " 0   survivor_id   1735 non-null   int64 \n",
      " 1   contact_info  1735 non-null   object\n",
      "dtypes: int64(1), object(1)\n",
      "memory usage: 27.2+ KB\n"
     ]
    },
    {
     "data": {
      "text/plain": [
       "(None, None, None, None, None, None, None, None)"
      ]
     },
     "execution_count": 20,
     "metadata": {},
     "output_type": "execute_result"
    }
   ],
   "source": [
    "print('CONTACT POINTS'), contact_points.info(), print('\\nRESIDENCES'), residences.info(), print('\\nSURVIVORS'), survivors.info(), print('\\nCONTACT INFO'), contact_info.info()"
   ]
  },
  {
   "cell_type": "code",
   "execution_count": 21,
   "id": "6faa1ebc",
   "metadata": {},
   "outputs": [
    {
     "name": "stdout",
     "output_type": "stream",
     "text": [
      "<class 'pandas.core.frame.DataFrame'>\n",
      "Int64Index: 1218 entries, 0 to 1734\n",
      "Data columns (total 2 columns):\n",
      " #   Column        Non-Null Count  Dtype \n",
      "---  ------        --------------  ----- \n",
      " 0   survivor_id   1218 non-null   int64 \n",
      " 1   contact_info  1218 non-null   object\n",
      "dtypes: int64(1), object(1)\n",
      "memory usage: 28.5+ KB\n"
     ]
    }
   ],
   "source": [
    "contact_info['contact_info'] = contact_info['contact_info'].str.replace('-','', regex=False)\n",
    "contact_info = contact_info.drop_duplicates()\n",
    "contact_info.info()"
   ]
  },
  {
   "cell_type": "code",
   "execution_count": 22,
   "id": "1751c419",
   "metadata": {},
   "outputs": [],
   "source": [
    "residences_geo = gpd.GeoDataFrame(residences, geometry=gpd.points_from_xy(residences.longitude, residences.latitude), crs='EPSG:4326')"
   ]
  },
  {
   "cell_type": "code",
   "execution_count": 23,
   "id": "e62e5a9b",
   "metadata": {},
   "outputs": [],
   "source": [
    "council_districts = gpd.read_file('../data/Schema/Council District Outlines (GIS).geojson')"
   ]
  },
  {
   "cell_type": "code",
   "execution_count": 24,
   "id": "d447aa50",
   "metadata": {},
   "outputs": [],
   "source": [
    "residences_geo = gpd.sjoin(residences_geo, council_districts, how='left', op='within')\n",
    "residences_geo.to_csv('../data/Schema/residences_geo.csv')"
   ]
  },
  {
   "cell_type": "code",
   "execution_count": 39,
   "id": "99e7815d",
   "metadata": {},
   "outputs": [
    {
     "data": {
      "text/plain": [
       "2       79\n",
       "3       45\n",
       "1       39\n",
       "0.5     17\n",
       "3.5     15\n",
       "2.5     13\n",
       "6       13\n",
       "0.6     12\n",
       "1.5      9\n",
       "7        5\n",
       "4        4\n",
       "5        4\n",
       "0.75     2\n",
       "8        2\n",
       "9        2\n",
       "0.7      2\n",
       "1.3      2\n",
       "6.5      2\n",
       "0.9      1\n",
       "1.4      1\n",
       "4.5      1\n",
       "Name: water_lvl, dtype: int64"
      ]
     },
     "execution_count": 39,
     "metadata": {},
     "output_type": "execute_result"
    }
   ],
   "source": [
    "contact_points['water_lvl'].value_counts()"
   ]
  },
  {
   "cell_type": "code",
   "execution_count": 26,
   "id": "93c4cf31",
   "metadata": {},
   "outputs": [],
   "source": [
    "contact_points.loc[contact_points['damage_lvl']=='major', 'damage_lvl'] = 'Major'"
   ]
  },
  {
   "cell_type": "code",
   "execution_count": 30,
   "id": "f216bd25",
   "metadata": {},
   "outputs": [],
   "source": [
    "contact_points.loc[contact_points['damage_lvl']=='minor', 'damage_lvl'] = 'Minor'\n",
    "contact_points.loc[contact_points['damage_lvl']=='affected', 'damage_lvl'] = 'Affected'\n",
    "contact_points.loc[contact_points['damage_lvl']=='DESTROYED', 'damage_lvl'] = 'Destroyed'\n",
    "contact_points.loc[contact_points['damage_lvl']=='mon', 'damage_lvl'] = 'Minor'"
   ]
  },
  {
   "cell_type": "code",
   "execution_count": 38,
   "id": "0ad5c6ca",
   "metadata": {},
   "outputs": [],
   "source": [
    "contact_points.loc[contact_points['water_lvl']=='water_living', 'water_lvl'] = np.nan\n",
    "contact_points.loc[contact_points['water_lvl']=='water_below,trees,other', 'water_lvl'] = np.nan"
   ]
  },
  {
   "cell_type": "code",
   "execution_count": 40,
   "id": "0c9794c9",
   "metadata": {},
   "outputs": [],
   "source": [
    "contact_points.to_csv('../data/contact_points_table.csv')\n",
    "contact_info.to_csv('../data/contact_info_table.csv')"
   ]
  },
  {
   "cell_type": "code",
   "execution_count": null,
   "id": "f32ed075",
   "metadata": {},
   "outputs": [],
   "source": []
  }
 ],
 "metadata": {
  "kernelspec": {
   "display_name": "Python 3",
   "language": "python",
   "name": "python3"
  },
  "language_info": {
   "codemirror_mode": {
    "name": "ipython",
    "version": 3
   },
   "file_extension": ".py",
   "mimetype": "text/x-python",
   "name": "python",
   "nbconvert_exporter": "python",
   "pygments_lexer": "ipython3",
   "version": "3.8.10"
  }
 },
 "nbformat": 4,
 "nbformat_minor": 5
}
