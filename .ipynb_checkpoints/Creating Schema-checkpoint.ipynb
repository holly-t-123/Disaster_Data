{
 "cells": [
  {
   "cell_type": "code",
   "execution_count": 126,
   "id": "ff2a47e3",
   "metadata": {},
   "outputs": [],
   "source": [
    "import pandas as pd\n",
    "import numpy as np\n",
    "import difflib\n",
    "import googlemaps\n"
   ]
  },
  {
   "cell_type": "markdown",
   "id": "88c48e08",
   "metadata": {},
   "source": [
    "residences = pd.DataFrame(columns=['address', 'zipcode', 'latitude', 'longitude'])\n",
    "\n",
    "survivors = pd.DataFrame(columns=['name'])\n",
    "\n",
    "contact_info = pd.DataFrame(columns=['survivor_id', 'contact_info'])\n",
    "\n",
    "contact_points = pd.DataFrame(columns = ['residence_id', 'survivor_id', 'date', \n",
    "                                         'water_lvl', 'damage_lvl', 'notes1', 'notes2', \n",
    "                                         'notes3', 'intaker'])\n",
    "\n"
   ]
  },
  {
   "cell_type": "code",
   "execution_count": 128,
   "id": "dca57131",
   "metadata": {
    "scrolled": true
   },
   "outputs": [],
   "source": [
    "keys = pd.read_csv('../data/API.txt')\n",
    "gmap_key = keys.loc[keys['API']=='Google Maps', 'Key'].values[0]\n",
    "gmaps = googlemaps.Client(key=gmap_key)\n",
    "\n",
    "def find_or_add_residence(address):\n",
    "    global residences\n",
    "    try:\n",
    "        geo = gmaps.geocode(address+', TN')\n",
    "        lat = geo[0]['geometry']['location']['lat']\n",
    "        lon = geo[0]['geometry']['location']['lng']\n",
    "        zipcode = geo[0]['address_components'][-1]['long_name']\n",
    "\n",
    "        coord_search = residences[(residences['latitude']==lat) & (residences['longitude']==lon)]\n",
    "\n",
    "        if coord_search.shape[0] == 0:\n",
    "            residences = residences.append({'address':address, 'latitude':lat, \n",
    "                                            'longitude':lon, 'zipcode':zipcode},\n",
    "                                           ignore_index=True)\n",
    "            res_id = residences.shape[0] - 1\n",
    "            return res_id \n",
    "        else:\n",
    "            res_id = coord_search.index.values[0]\n",
    "            return res_id\n",
    "    except:\n",
    "        print(address)\n",
    "        return address"
   ]
  },
  {
   "cell_type": "code",
   "execution_count": 129,
   "id": "00985fc5",
   "metadata": {},
   "outputs": [],
   "source": [
    "def find_or_add_survivor(**kwargs):\n",
    "    global survivors\n",
    "    global contact_info\n",
    "    \n",
    "    name = kwargs['name'].upper().strip()\n",
    "    name_search = survivors[survivors['name']==name]\n",
    "    \n",
    "    if name_search.shape[0] != 0:\n",
    "        surv_id = name_search.index.values[0]\n",
    "        \n",
    "    elif len(difflib.get_close_matches(name, survivors['name'], n=1, cutoff=0.90)) > 0:\n",
    "        match = difflib.get_close_matches(name, survivors['name'], n=1, cutoff=0.90)[0]\n",
    "        choice = ''\n",
    "        \n",
    "        while choice == '':\n",
    "        \n",
    "            choice = input(f'You entered {name}. Did you mean: {match}? Type Y or N. \\n')\n",
    "\n",
    "            if choice in ['Y','y']:\n",
    "                surv_id = survivors.loc[survivors['name']==match].index.values[0]\n",
    "\n",
    "            elif choice in ['N','n']:\n",
    "                survivors = survivors.append({'name':name},ignore_index=True)\n",
    "                surv_id = residences.shape[0] - 1\n",
    "\n",
    "            else:\n",
    "                choice = ''    \n",
    "    else:\n",
    "        survivors = survivors.append({'name':name},ignore_index=True)\n",
    "        surv_id = survivors.shape[0] - 1\n",
    "    \n",
    "    for k,v in kwargs.items():\n",
    "        if k != 'name':\n",
    "            contact_info = contact_info.append({'survivor_id':surv_id, 'contact_info':v}, ignore_index=True)\n",
    "    \n",
    "    return surv_id\n",
    "        "
   ]
  },
  {
   "cell_type": "code",
   "execution_count": 130,
   "id": "0fb1a566",
   "metadata": {},
   "outputs": [],
   "source": [
    "def create_contact_point(**kwargs):\n",
    "    global contact_points\n",
    "    contact_points = contact_points.append(kwargs, ignore_index=True)\n",
    "\n",
    "    "
   ]
  },
  {
   "cell_type": "markdown",
   "id": "a61ac67c",
   "metadata": {},
   "source": [
    "nash_codes = pd.read_csv('../data/CodesDamageAssessment_4_15_21.csv', parse_dates=['CreationDate'], \n",
    "                         dtype={'Address':'object','Extent of Damage':'object','Type of Structure':'object',\n",
    "                                'Water Level':'float64','Note':'object','Creator':'object'})\n",
    "nash_codes = nash_codes.dropna(subset=['Address'])\n",
    "nash_codes = nash_codes.drop_duplicates(ignore_index=True)\n",
    "\n",
    "mask = (nash_codes['Type of Structure']=='Residential') & (nash_codes['Extent of Damage'] != 'None')\n",
    "for ind, row in nash_codes[mask].iterrows():\n",
    "    add = row['Address'].upper().strip()\n",
    "    res_id = find_or_add_residence(address=add)\n",
    "    surv_id = None\n",
    "    create_contact_point(residence_id = res_id, survivor_id = surv_id, \n",
    "                         date = row['CreationDate'], water_lvl = row['Water Level'], \n",
    "                         damage_lvl = row['Extent of Damage'], notes1=row['Notes'], \n",
    "                         intaker='Nashville Codes: ' + row['Creator'])"
   ]
  },
  {
   "cell_type": "markdown",
   "id": "389b8893",
   "metadata": {},
   "source": [
    "print('CONTACT POINTS'), contact_points.info(), print('\\nRESIDENCES'), residences.info(), print('\\nSURVIVORS'), survivors.info()"
   ]
  },
  {
   "cell_type": "markdown",
   "id": "d3b7f35a",
   "metadata": {},
   "source": [
    "oem = pd.read_csv('../data/OEM_4_12_21.csv', \n",
    "                         dtype={'PropHouse':'object','PropZip':'object','PropStreet':'object',\n",
    "                                'Extent of Damage':'object','Water Level':'object','Notes':'object',\n",
    "                                'Damage 2':'object'})\n",
    "\n",
    "oem = oem.fillna('')\n",
    "oem = oem.drop_duplicates(ignore_index=True)\n",
    "\n",
    "mask = oem['Extent of Damage'] != 'None'\n",
    "for ind, row in oem[mask].iterrows():\n",
    "    add = row['PropHouse'].upper().strip() + ' ' + row['PropStreet'].upper().strip()\n",
    "    res_id = find_or_add_residence(address=add)\n",
    "    surv_id = None\n",
    "    create_contact_point(residence_id = res_id, survivor_id = surv_id, date = pd.to_datetime('2021-04-12'), \n",
    "                         water_lvl = row['Water Level'], damage_lvl = row['Extent of Damage'], \n",
    "                         notes1='NOTES: '+row['Notes'], notes2='DAMAGE 2: ' + row['Damage 2'], intaker='OEM')"
   ]
  },
  {
   "cell_type": "markdown",
   "id": "dde80466",
   "metadata": {},
   "source": [
    "print('CONTACT POINTS'), contact_points.info(), print('\\nRESIDENCES'), residences.info(), print('\\nSURVIVORS'), survivors.info()"
   ]
  },
  {
   "cell_type": "markdown",
   "id": "3b9a1d34",
   "metadata": {},
   "source": [
    "nerve_4_9 = pd.read_csv('../data/NERVE_040921.csv', parse_dates=[10],\n",
    "                         dtype={'Street No.':'object','Street':'object','First Name':'object','Last Name':'object',\n",
    "                                'Email':'object','Phone Number':'object','Structure Damage Level':'object',\n",
    "                                'Property Damage Described':'object','Comments':'object',\n",
    "                                'Other - Property Damage Described':'object'})\n",
    "nerve_4_9 = nerve_4_9.fillna('')\n",
    "nerve_4_9 = nerve_4_9.drop_duplicates(ignore_index=True)\n",
    "\n",
    "for ind, row in nerve_4_9.iterrows():\n",
    "    add = row['Street No.'].upper().strip() + ' ' + row['Street'].upper().strip()\n",
    "    res_id = find_or_add_residence(address=add)\n",
    "    name = row['First Name'] + ' ' + row['Last Name'].upper().strip()\n",
    "    \n",
    "    if name == ' ':\n",
    "        surv_id = None\n",
    "    else:\n",
    "        surv_id = find_or_add_survivor(name = name, contact_1 = row['Phone Number'].strip(), contact_2 = row['Email'].strip())\n",
    "    \n",
    "    create_contact_point(residence_id = res_id, survivor_id = surv_id, date = row['CreationDate'], \n",
    "                         damage_lvl = row['Structure Damage Level'], intaker='NERVE: Self Reported',\n",
    "                         notes1='Property Damage Described: ' + row['Property Damage Described'], \n",
    "                         notes2 = 'Comments:' + row['Comments'], \n",
    "                         notes3 = 'Other - Property Damage Described: ' + row['Other - Property Damage Described'])"
   ]
  },
  {
   "cell_type": "markdown",
   "id": "a732c461",
   "metadata": {},
   "source": [
    "print('CONTACT POINTS'), contact_points.info(), print('\\nRESIDENCES'), residences.info(), print('\\nSURVIVORS'), survivors.info()"
   ]
  },
  {
   "cell_type": "markdown",
   "id": "1dda7494",
   "metadata": {},
   "source": [
    "canvass_3_30 = pd.read_csv('../data/canvass_3_30.csv',\n",
    "                         dtype={'Street Number':'object','Street Name':'object','Name':'object',\n",
    "                                'Language Preference':'object','Saturday Help':'object',\n",
    "                                'Phone Number':'object','Notes':'object'})\n",
    "canvass_3_30 = canvass_3_30.fillna('')\n",
    "canvass_3_30 = canvass_3_30.drop_duplicates(ignore_index=True)\n",
    "\n",
    "for ind, row in canvass_3_30.iterrows():\n",
    "    add = row['Street Number'].upper().strip() + ' ' + row['Street Name'].upper().strip()\n",
    "    res_id = find_or_add_residence(address=add)\n",
    "    name = row['Name']\n",
    "    if name == '':\n",
    "        surv_id = None\n",
    "    else:\n",
    "        surv_id = find_or_add_survivor(name = name, contact_1 = row['Phone Number'].strip())\n",
    "    create_contact_point(residence_id = res_id, survivor_id = surv_id, date = pd.to_datetime('2021-03-31'),\n",
    "                         intaker='Canvass Volunteer from Hands On Nashville',\n",
    "                         notes1= 'Language Preference: ' + row['Language Preference'], \n",
    "                         notes2 = 'Notes' + row['Notes'], \n",
    "                         notes3 ='Followup: ' + row['Saturday Help'])"
   ]
  },
  {
   "cell_type": "markdown",
   "id": "bcdd7f59",
   "metadata": {},
   "source": [
    "print('CONTACT POINTS'), contact_points.info(), print('\\nRESIDENCES'), residences.info(), print('\\nSURVIVORS'), survivors.info()"
   ]
  },
  {
   "cell_type": "markdown",
   "id": "09d5877e",
   "metadata": {},
   "source": [
    "canvass_4_2 = pd.read_csv('../data/canvass_4_2.csv', parse_dates=[2],\n",
    "                         dtype={'What is the house number?':'object','What is the street name?':'object',\n",
    "                                'Is there visible debris on the property?':'object','Resident Name':'object',\n",
    "                                'Resident phone number':'object','Language?':'object',\n",
    "                                'Was the home impacted? (Either can you see this visually or did the resident disclose?)':'object',\n",
    "                                'Does the resident want volunteers to assist with response?':'object',\n",
    "                                'Does the resident need any of the following?':'object'})\n",
    "\n",
    "canvass_4_2 = canvass_4_2.fillna('')\n",
    "canvass_4_2 = canvass_4_2.drop_duplicates(ignore_index=True)\n",
    "\n",
    "\n",
    "mask = canvass_4_2['Was the home impacted? (Either can you see this visually or did the resident disclose?)'] == 'Yes'\n",
    "for ind, row in canvass_4_2[mask].iterrows():\n",
    "    add = row['What is the house number?'].upper().strip() + ' ' + row['What is the street name?'].upper().strip()\n",
    "    res_id = find_or_add_residence(address=add)\n",
    "    name = row['Resident Name']\n",
    "    if name == '':\n",
    "        surv_id = None\n",
    "    else:\n",
    "        surv_id = find_or_add_survivor(name = name, contact_1 = row['Resident phone number'].strip())\n",
    "    create_contact_point(residence_id = res_id, survivor_id = surv_id, date = row['Completion time'],\n",
    "                         intaker='Canvass Volunteer from Hands On Nashville',\n",
    "                         notes1= 'Language: ' + row['Language?'], \n",
    "                         notes2 = 'Requested Assistance: ' + row['Does the resident want volunteers to assist with response?'], \n",
    "                         notes3 ='Specific Needs: ' + row['Does the resident need any of the following?'])"
   ]
  },
  {
   "cell_type": "markdown",
   "id": "e27ed089",
   "metadata": {},
   "source": [
    "print('CONTACT POINTS'), contact_points.info(), print('\\nRESIDENCES'), residences.info(), print('\\nSURVIVORS'), survivors.info()"
   ]
  },
  {
   "cell_type": "markdown",
   "id": "1a9cc093",
   "metadata": {},
   "source": [
    "nash_responds = pd.read_csv('../data/nash_responds_4_6.csv',\n",
    "                         dtype={'First Name':'object','Last Name':'object','Address 1':'object',\n",
    "                                'Email':'object','Phone':'object','Request Details':'object'})\n",
    "nash_responds = nash_responds.drop_duplicates(ignore_index=True)\n",
    "\n",
    "\n",
    "\n",
    "for ind, row in nash_responds.iterrows():\n",
    "    add = row['Address 1'].upper().strip()\n",
    "    res_id = find_or_add_residence(address=add)\n",
    "    name = row['First Name'] + ' ' + row['Last Name']\n",
    "    \n",
    "    if name == ' ':\n",
    "        surv_id = None\n",
    "    else:\n",
    "        surv_id = find_or_add_survivor(name = name, contact_1 = row['Phone'].strip(), contact_2 = row['Email'])\n",
    "    \n",
    "    create_contact_point(residence_id = res_id, survivor_id = surv_id, date = pd.to_datetime('2021-04-06'), \n",
    "                         intaker='Nashville Responds: Self Reported',\n",
    "                         notes1='Request Details: ' + row['Request Details'])"
   ]
  },
  {
   "cell_type": "markdown",
   "id": "52d1b636",
   "metadata": {},
   "source": [
    "print('CONTACT POINTS'), contact_points.info(), print('\\nRESIDENCES'), residences.info(), print('\\nSURVIVORS'), survivors.info(), print('\\nCONTACT INFO'), contact_info.info()"
   ]
  },
  {
   "cell_type": "markdown",
   "id": "c2ed9ae6",
   "metadata": {},
   "source": [
    "survivors.to_csv('../data/survivors_table.csv')\n",
    "residences.to_csv('../data/residences_table.csv')\n",
    "contact_info.to_csv('../contact_info_table.csv')\n",
    "contact_points.to_csv('../data/contact_points_table.csv')"
   ]
  }
 ],
 "metadata": {
  "kernelspec": {
   "display_name": "Python 3",
   "language": "python",
   "name": "python3"
  },
  "language_info": {
   "codemirror_mode": {
    "name": "ipython",
    "version": 3
   },
   "file_extension": ".py",
   "mimetype": "text/x-python",
   "name": "python",
   "nbconvert_exporter": "python",
   "pygments_lexer": "ipython3",
   "version": "3.8.10"
  }
 },
 "nbformat": 4,
 "nbformat_minor": 5
}
