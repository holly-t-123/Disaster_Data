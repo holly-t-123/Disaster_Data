{
 "cells": [
  {
   "cell_type": "code",
   "execution_count": 1,
   "id": "ff2a47e3",
   "metadata": {},
   "outputs": [],
   "source": [
    "import pandas as pd\n",
    "import numpy as np\n",
    "import difflib\n",
    "import googlemaps\n",
    "\n",
    "from IPython.display import Audio\n",
    "\n",
    "#finish indicator\n",
    "wow = '../data/Hugo Wow.mp3'\n",
    "finished=Audio(url = wow, autoplay = True)\n"
   ]
  },
  {
   "cell_type": "code",
   "execution_count": 2,
   "id": "962b6315",
   "metadata": {},
   "outputs": [],
   "source": [
    "residences = pd.DataFrame(columns=['address', 'zipcode', 'latitude', 'longitude'])\n",
    "\n",
    "survivors = pd.DataFrame(columns=['name'])\n",
    "\n",
    "contact_info = pd.DataFrame(columns=['survivor_id', 'contact_info'])\n",
    "\n",
    "contact_points = pd.DataFrame(columns = ['residence_id', 'survivor_id', 'date', \n",
    "                                         'water_lvl', 'damage_lvl', 'notes1', 'notes2', \n",
    "                                         'notes3', 'intaker'])\n",
    "\n"
   ]
  },
  {
   "cell_type": "code",
   "execution_count": 3,
   "id": "dca57131",
   "metadata": {
    "scrolled": true
   },
   "outputs": [],
   "source": [
    "keys = pd.read_csv('../data/API.txt')\n",
    "gmap_key = keys.loc[keys['API']=='Google Maps', 'Key'].values[0]\n",
    "gmaps = googlemaps.Client(key=gmap_key)\n",
    "\n",
    "def find_or_add_residence(address):\n",
    "    global residences\n",
    "    try:\n",
    "        geo = gmaps.geocode(address+', TN')\n",
    "        lat = geo[0]['geometry']['location']['lat']\n",
    "        lon = geo[0]['geometry']['location']['lng']\n",
    "        zipcode = geo[0]['formatted_address'][-10:-5]\n",
    "\n",
    "        coord_search = residences[(residences['latitude']==lat) & (residences['longitude']==lon)]\n",
    "\n",
    "        if coord_search.shape[0] == 0:\n",
    "            residences = residences.append({'address':address, 'latitude':lat, \n",
    "                                            'longitude':lon, 'zipcode':zipcode},\n",
    "                                           ignore_index=True)\n",
    "            res_id = residences.shape[0] - 1\n",
    "            return res_id \n",
    "        \n",
    "        else:\n",
    "            res_id = coord_search.index.values[0]\n",
    "            return res_id\n",
    "    except:\n",
    "        residences = residences.append({'address':address}, ignore_index = True)\n",
    "        res_id = residences.shape[0] - 1\n",
    "        return res_id"
   ]
  },
  {
   "cell_type": "code",
   "execution_count": 4,
   "id": "00985fc5",
   "metadata": {},
   "outputs": [],
   "source": [
    "def find_or_add_survivor(**kwargs):\n",
    "    global survivors\n",
    "    global contact_info\n",
    "    \n",
    "    name = kwargs['name'].upper().strip()\n",
    "    name_search = survivors[survivors['name']==name]\n",
    "    \n",
    "    if name_search.shape[0] != 0:\n",
    "        surv_id = name_search.index.values[0]\n",
    "        \n",
    "    elif len(difflib.get_close_matches(name, survivors['name'], n=1, cutoff=0.90)) > 0:\n",
    "        match = difflib.get_close_matches(name, survivors['name'], n=1, cutoff=0.90)[0]\n",
    "        surv_id = survivors.loc[survivors['name']==match].index.values[0]\n",
    "    \n",
    "    else:\n",
    "        survivors = survivors.append({'name':name},ignore_index=True)\n",
    "        surv_id = survivors.shape[0] - 1\n",
    "    \n",
    "    for k,v in kwargs.items():\n",
    "        if k != 'name' and v.strip() != '':\n",
    "            contact_info = contact_info.append({'survivor_id':surv_id, 'contact_info':v}, ignore_index=True)\n",
    "    \n",
    "    return surv_id\n",
    "        "
   ]
  },
  {
   "cell_type": "code",
   "execution_count": 5,
   "id": "0fb1a566",
   "metadata": {},
   "outputs": [],
   "source": [
    "def create_contact_point(**kwargs):\n",
    "    global contact_points\n",
    "    contact_points = contact_points.append(kwargs, ignore_index=True)\n",
    "\n",
    "    "
   ]
  },
  {
   "cell_type": "code",
   "execution_count": 6,
   "id": "bdc20ea5",
   "metadata": {},
   "outputs": [],
   "source": [
    "nash_codes = pd.read_csv('../data/CodesDamageAssessment_4_15_21.csv', parse_dates=['CreationDate'], \n",
    "                         dtype={'Address':'object','Extent of Damage':'object','Type of Structure':'object',\n",
    "                                'Water Level':'float64','Note':'object','Creator':'object'})\n",
    "                                \n",
    "nash_codes = nash_codes.dropna(subset=['Address'])\n",
    "nash_codes = nash_codes.drop_duplicates(ignore_index=True)\n",
    "\n",
    "mask = (nash_codes['Type of Structure']=='Residential') & (nash_codes['Extent of Damage'] != 'None')\n",
    "for ind, row in nash_codes[mask].iterrows():\n",
    "    add = row['Address'].upper().strip()\n",
    "    res_id = find_or_add_residence(address=add)\n",
    "    surv_id = None\n",
    "    create_contact_point(residence_id = res_id, survivor_id = surv_id, \n",
    "                         date = row['CreationDate'], water_lvl = row['Water Level'], \n",
    "                         damage_lvl = row['Extent of Damage'], notes1=row['Notes'], \n",
    "                         intaker='Nashville Codes: ' + row['Creator'])"
   ]
  },
  {
   "cell_type": "code",
   "execution_count": 7,
   "id": "2374e394",
   "metadata": {},
   "outputs": [
    {
     "name": "stdout",
     "output_type": "stream",
     "text": [
      "CONTACT POINTS\n",
      "<class 'pandas.core.frame.DataFrame'>\n",
      "RangeIndex: 390 entries, 0 to 389\n",
      "Data columns (total 9 columns):\n",
      " #   Column        Non-Null Count  Dtype         \n",
      "---  ------        --------------  -----         \n",
      " 0   residence_id  390 non-null    object        \n",
      " 1   survivor_id   0 non-null      object        \n",
      " 2   date          390 non-null    datetime64[ns]\n",
      " 3   water_lvl     258 non-null    float64       \n",
      " 4   damage_lvl    390 non-null    object        \n",
      " 5   notes1        47 non-null     object        \n",
      " 6   notes2        0 non-null      float64       \n",
      " 7   notes3        0 non-null      float64       \n",
      " 8   intaker       390 non-null    object        \n",
      "dtypes: datetime64[ns](1), float64(3), object(5)\n",
      "memory usage: 27.5+ KB\n",
      "\n",
      "RESIDENCES\n",
      "<class 'pandas.core.frame.DataFrame'>\n",
      "RangeIndex: 383 entries, 0 to 382\n",
      "Data columns (total 4 columns):\n",
      " #   Column     Non-Null Count  Dtype  \n",
      "---  ------     --------------  -----  \n",
      " 0   address    383 non-null    object \n",
      " 1   zipcode    383 non-null    object \n",
      " 2   latitude   383 non-null    float64\n",
      " 3   longitude  383 non-null    float64\n",
      "dtypes: float64(2), object(2)\n",
      "memory usage: 12.1+ KB\n",
      "\n",
      "SURVIVORS\n",
      "<class 'pandas.core.frame.DataFrame'>\n",
      "Index: 0 entries\n",
      "Data columns (total 1 columns):\n",
      " #   Column  Non-Null Count  Dtype \n",
      "---  ------  --------------  ----- \n",
      " 0   name    0 non-null      object\n",
      "dtypes: object(1)\n",
      "memory usage: 0.0+ bytes\n",
      "\n",
      "CONTACT INFO\n",
      "<class 'pandas.core.frame.DataFrame'>\n",
      "Index: 0 entries\n",
      "Data columns (total 2 columns):\n",
      " #   Column        Non-Null Count  Dtype \n",
      "---  ------        --------------  ----- \n",
      " 0   survivor_id   0 non-null      object\n",
      " 1   contact_info  0 non-null      object\n",
      "dtypes: object(2)\n",
      "memory usage: 0.0+ bytes\n"
     ]
    },
    {
     "data": {
      "text/plain": [
       "(None, None, None, None, None, None, None, None)"
      ]
     },
     "execution_count": 7,
     "metadata": {},
     "output_type": "execute_result"
    }
   ],
   "source": [
    "print('CONTACT POINTS'), contact_points.info(), print('\\nRESIDENCES'), residences.info(), print('\\nSURVIVORS'), survivors.info(), print('\\nCONTACT INFO'), contact_info.info()"
   ]
  },
  {
   "cell_type": "code",
   "execution_count": 8,
   "id": "35b01e2f",
   "metadata": {},
   "outputs": [],
   "source": [
    "oem = pd.read_csv('../data/OEM_4_12_21.csv', \n",
    "                         dtype={'PropHouse':'object','PropZip':'object','PropStreet':'object',\n",
    "                                'Extent of Damage':'object','Water Level':'object','Notes':'object',\n",
    "                                'Damage 2':'object'})\n",
    "\n",
    "oem = oem.fillna('')\n",
    "oem = oem.drop_duplicates(ignore_index=True)\n",
    "\n",
    "mask = oem['Extent of Damage'] != 'None'\n",
    "for ind, row in oem[mask].iterrows():\n",
    "    add = row['PropHouse'].upper().strip() + ' ' + row['PropStreet'].upper().strip()\n",
    "    res_id = find_or_add_residence(address=add)\n",
    "    surv_id = None\n",
    "    create_contact_point(residence_id = res_id, survivor_id = surv_id, date = pd.to_datetime('2021-04-12'), \n",
    "                         water_lvl = row['Water Level'], damage_lvl = row['Extent of Damage'], \n",
    "                         notes1='NOTES: '+row['Notes'], notes2='DAMAGE 2: ' + row['Damage 2'], intaker='OEM')"
   ]
  },
  {
   "cell_type": "code",
   "execution_count": 9,
   "id": "34cf0407",
   "metadata": {},
   "outputs": [
    {
     "name": "stdout",
     "output_type": "stream",
     "text": [
      "CONTACT POINTS\n",
      "<class 'pandas.core.frame.DataFrame'>\n",
      "RangeIndex: 632 entries, 0 to 631\n",
      "Data columns (total 9 columns):\n",
      " #   Column        Non-Null Count  Dtype         \n",
      "---  ------        --------------  -----         \n",
      " 0   residence_id  632 non-null    object        \n",
      " 1   survivor_id   0 non-null      object        \n",
      " 2   date          632 non-null    datetime64[ns]\n",
      " 3   water_lvl     500 non-null    object        \n",
      " 4   damage_lvl    632 non-null    object        \n",
      " 5   notes1        289 non-null    object        \n",
      " 6   notes2        242 non-null    object        \n",
      " 7   notes3        0 non-null      float64       \n",
      " 8   intaker       632 non-null    object        \n",
      "dtypes: datetime64[ns](1), float64(1), object(7)\n",
      "memory usage: 44.6+ KB\n",
      "\n",
      "RESIDENCES\n",
      "<class 'pandas.core.frame.DataFrame'>\n",
      "RangeIndex: 565 entries, 0 to 564\n",
      "Data columns (total 4 columns):\n",
      " #   Column     Non-Null Count  Dtype  \n",
      "---  ------     --------------  -----  \n",
      " 0   address    565 non-null    object \n",
      " 1   zipcode    565 non-null    object \n",
      " 2   latitude   565 non-null    float64\n",
      " 3   longitude  565 non-null    float64\n",
      "dtypes: float64(2), object(2)\n",
      "memory usage: 17.8+ KB\n",
      "\n",
      "SURVIVORS\n",
      "<class 'pandas.core.frame.DataFrame'>\n",
      "Index: 0 entries\n",
      "Data columns (total 1 columns):\n",
      " #   Column  Non-Null Count  Dtype \n",
      "---  ------  --------------  ----- \n",
      " 0   name    0 non-null      object\n",
      "dtypes: object(1)\n",
      "memory usage: 0.0+ bytes\n",
      "\n",
      "CONTACT INFO\n",
      "<class 'pandas.core.frame.DataFrame'>\n",
      "Index: 0 entries\n",
      "Data columns (total 2 columns):\n",
      " #   Column        Non-Null Count  Dtype \n",
      "---  ------        --------------  ----- \n",
      " 0   survivor_id   0 non-null      object\n",
      " 1   contact_info  0 non-null      object\n",
      "dtypes: object(2)\n",
      "memory usage: 0.0+ bytes\n"
     ]
    },
    {
     "data": {
      "text/plain": [
       "(None, None, None, None, None, None, None, None)"
      ]
     },
     "execution_count": 9,
     "metadata": {},
     "output_type": "execute_result"
    }
   ],
   "source": [
    "print('CONTACT POINTS'), contact_points.info(), print('\\nRESIDENCES'), residences.info(), print('\\nSURVIVORS'), survivors.info(), print('\\nCONTACT INFO'), contact_info.info()"
   ]
  },
  {
   "cell_type": "code",
   "execution_count": 10,
   "id": "c75f8852",
   "metadata": {},
   "outputs": [],
   "source": [
    "nerve_4_9 = pd.read_csv('../data/NERVE_040921.csv', parse_dates=[10],\n",
    "                         dtype={'Street No.':'object','Street':'object','First Name':'object','Last Name':'object',\n",
    "                                'Email':'object','Phone Number':'object','Structure Damage Level':'object',\n",
    "                                'Property Damage Described':'object','Comments':'object',\n",
    "                                'Other - Property Damage Described':'object'})\n",
    "nerve_4_9 = nerve_4_9.fillna('')\n",
    "nerve_4_9 = nerve_4_9.drop_duplicates(ignore_index=True)\n",
    "\n",
    "for ind, row in nerve_4_9.iterrows():\n",
    "    add = row['Street No.'].upper().strip() + ' ' + row['Street'].upper().strip()\n",
    "    res_id = find_or_add_residence(address=add)\n",
    "    name = row['First Name'].upper().strip() + ' ' + row['Last Name'].upper().strip()\n",
    "    \n",
    "    if name == ' ':\n",
    "        surv_id = None\n",
    "    else:\n",
    "        surv_id = find_or_add_survivor(name = name, contact_1 = row['Phone Number'].strip(), contact_2 = row['Email'].strip())\n",
    "    \n",
    "    create_contact_point(residence_id = res_id, survivor_id = surv_id, date = row['CreationDate'], \n",
    "                         damage_lvl = row['Structure Damage Level'], intaker='NERVE: Self Reported',\n",
    "                         notes1='Property Damage Described: ' + row['Property Damage Described'], \n",
    "                         notes2 = 'Comments:' + row['Comments'], \n",
    "                         notes3 = 'Other - Property Damage Described: ' + row['Other - Property Damage Described'])"
   ]
  },
  {
   "cell_type": "code",
   "execution_count": 11,
   "id": "57f8e78c",
   "metadata": {},
   "outputs": [
    {
     "name": "stdout",
     "output_type": "stream",
     "text": [
      "CONTACT POINTS\n",
      "<class 'pandas.core.frame.DataFrame'>\n",
      "RangeIndex: 852 entries, 0 to 851\n",
      "Data columns (total 9 columns):\n",
      " #   Column        Non-Null Count  Dtype         \n",
      "---  ------        --------------  -----         \n",
      " 0   residence_id  852 non-null    object        \n",
      " 1   survivor_id   26 non-null     object        \n",
      " 2   date          852 non-null    datetime64[ns]\n",
      " 3   water_lvl     500 non-null    object        \n",
      " 4   damage_lvl    852 non-null    object        \n",
      " 5   notes1        509 non-null    object        \n",
      " 6   notes2        462 non-null    object        \n",
      " 7   notes3        220 non-null    object        \n",
      " 8   intaker       852 non-null    object        \n",
      "dtypes: datetime64[ns](1), object(8)\n",
      "memory usage: 60.0+ KB\n",
      "\n",
      "RESIDENCES\n",
      "<class 'pandas.core.frame.DataFrame'>\n",
      "RangeIndex: 700 entries, 0 to 699\n",
      "Data columns (total 4 columns):\n",
      " #   Column     Non-Null Count  Dtype  \n",
      "---  ------     --------------  -----  \n",
      " 0   address    700 non-null    object \n",
      " 1   zipcode    700 non-null    object \n",
      " 2   latitude   700 non-null    float64\n",
      " 3   longitude  700 non-null    float64\n",
      "dtypes: float64(2), object(2)\n",
      "memory usage: 22.0+ KB\n",
      "\n",
      "SURVIVORS\n",
      "<class 'pandas.core.frame.DataFrame'>\n",
      "RangeIndex: 25 entries, 0 to 24\n",
      "Data columns (total 1 columns):\n",
      " #   Column  Non-Null Count  Dtype \n",
      "---  ------  --------------  ----- \n",
      " 0   name    25 non-null     object\n",
      "dtypes: object(1)\n",
      "memory usage: 328.0+ bytes\n",
      "\n",
      "CONTACT INFO\n",
      "<class 'pandas.core.frame.DataFrame'>\n",
      "RangeIndex: 51 entries, 0 to 50\n",
      "Data columns (total 2 columns):\n",
      " #   Column        Non-Null Count  Dtype \n",
      "---  ------        --------------  ----- \n",
      " 0   survivor_id   51 non-null     object\n",
      " 1   contact_info  51 non-null     object\n",
      "dtypes: object(2)\n",
      "memory usage: 944.0+ bytes\n"
     ]
    },
    {
     "data": {
      "text/plain": [
       "(None, None, None, None, None, None, None, None)"
      ]
     },
     "execution_count": 11,
     "metadata": {},
     "output_type": "execute_result"
    }
   ],
   "source": [
    "print('CONTACT POINTS'), contact_points.info(), print('\\nRESIDENCES'), residences.info(), print('\\nSURVIVORS'), survivors.info(), print('\\nCONTACT INFO'), contact_info.info()"
   ]
  },
  {
   "cell_type": "code",
   "execution_count": 12,
   "id": "26060107",
   "metadata": {},
   "outputs": [],
   "source": [
    "canvass_3_30 = pd.read_csv('../data/canvass_3_30.csv',\n",
    "                         dtype={'Street Number':'object','Street Name':'object','Name':'object',\n",
    "                                'Language Preference':'object','Saturday Help':'object',\n",
    "                                'Phone Number':'object','Notes':'object'})\n",
    "canvass_3_30 = canvass_3_30.fillna('')\n",
    "canvass_3_30 = canvass_3_30.drop_duplicates(ignore_index=True)\n",
    "\n",
    "for ind, row in canvass_3_30.iterrows():\n",
    "    add = row['Street Number'].upper().strip() + ' ' + row['Street Name'].upper().strip()\n",
    "    res_id = find_or_add_residence(address=add)\n",
    "    name = row['Name']\n",
    "    \n",
    "    if name == '':\n",
    "        surv_id = None\n",
    "    else:\n",
    "        surv_id = find_or_add_survivor(name = name, contact_1 = row['Phone Number'].strip())\n",
    "        \n",
    "    create_contact_point(residence_id = res_id, survivor_id = surv_id, date = pd.to_datetime('2021-03-31'),\n",
    "                         intaker='Canvass Volunteer from Hands On Nashville',\n",
    "                         notes1= 'Language Preference: ' + row['Language Preference'], \n",
    "                         notes2 = 'Notes' + row['Notes'], \n",
    "                         notes3 ='Followup: ' + row['Saturday Help'])"
   ]
  },
  {
   "cell_type": "code",
   "execution_count": 13,
   "id": "493ca621",
   "metadata": {},
   "outputs": [
    {
     "name": "stdout",
     "output_type": "stream",
     "text": [
      "CONTACT POINTS\n",
      "<class 'pandas.core.frame.DataFrame'>\n",
      "RangeIndex: 891 entries, 0 to 890\n",
      "Data columns (total 9 columns):\n",
      " #   Column        Non-Null Count  Dtype         \n",
      "---  ------        --------------  -----         \n",
      " 0   residence_id  891 non-null    object        \n",
      " 1   survivor_id   59 non-null     object        \n",
      " 2   date          891 non-null    datetime64[ns]\n",
      " 3   water_lvl     500 non-null    object        \n",
      " 4   damage_lvl    852 non-null    object        \n",
      " 5   notes1        548 non-null    object        \n",
      " 6   notes2        501 non-null    object        \n",
      " 7   notes3        259 non-null    object        \n",
      " 8   intaker       891 non-null    object        \n",
      "dtypes: datetime64[ns](1), object(8)\n",
      "memory usage: 62.8+ KB\n",
      "\n",
      "RESIDENCES\n",
      "<class 'pandas.core.frame.DataFrame'>\n",
      "RangeIndex: 705 entries, 0 to 704\n",
      "Data columns (total 4 columns):\n",
      " #   Column     Non-Null Count  Dtype  \n",
      "---  ------     --------------  -----  \n",
      " 0   address    705 non-null    object \n",
      " 1   zipcode    705 non-null    object \n",
      " 2   latitude   705 non-null    float64\n",
      " 3   longitude  705 non-null    float64\n",
      "dtypes: float64(2), object(2)\n",
      "memory usage: 22.2+ KB\n",
      "\n",
      "SURVIVORS\n",
      "<class 'pandas.core.frame.DataFrame'>\n",
      "RangeIndex: 58 entries, 0 to 57\n",
      "Data columns (total 1 columns):\n",
      " #   Column  Non-Null Count  Dtype \n",
      "---  ------  --------------  ----- \n",
      " 0   name    58 non-null     object\n",
      "dtypes: object(1)\n",
      "memory usage: 592.0+ bytes\n",
      "\n",
      "CONTACT INFO\n",
      "<class 'pandas.core.frame.DataFrame'>\n",
      "RangeIndex: 79 entries, 0 to 78\n",
      "Data columns (total 2 columns):\n",
      " #   Column        Non-Null Count  Dtype \n",
      "---  ------        --------------  ----- \n",
      " 0   survivor_id   79 non-null     object\n",
      " 1   contact_info  79 non-null     object\n",
      "dtypes: object(2)\n",
      "memory usage: 1.4+ KB\n"
     ]
    },
    {
     "data": {
      "text/plain": [
       "(None, None, None, None, None, None, None, None)"
      ]
     },
     "execution_count": 13,
     "metadata": {},
     "output_type": "execute_result"
    }
   ],
   "source": [
    "print('CONTACT POINTS'), contact_points.info(), print('\\nRESIDENCES'), residences.info(), print('\\nSURVIVORS'), survivors.info(), print('\\nCONTACT INFO'), contact_info.info()"
   ]
  },
  {
   "cell_type": "code",
   "execution_count": 14,
   "id": "da5f236c",
   "metadata": {},
   "outputs": [],
   "source": [
    "canvass_4_2 = pd.read_csv('../data/canvass_4_2.csv', parse_dates=[2],\n",
    "                         dtype={'What is the house number?':'object','What is the street name?':'object',\n",
    "                                'Is there visible debris on the property?':'object','Resident Name':'object',\n",
    "                                'Resident phone number':'object','Language?':'object',\n",
    "                                'Was the home impacted? (Either can you see this visually or did the resident disclose?)':'object',\n",
    "                                'Does the resident want volunteers to assist with response?':'object',\n",
    "                                'Does the resident need any of the following?':'object'})\n",
    "\n",
    "canvass_4_2 = canvass_4_2.fillna('')\n",
    "canvass_4_2 = canvass_4_2.drop_duplicates(ignore_index=True)\n",
    "\n",
    "\n",
    "mask = canvass_4_2['Was the home impacted? (Either can you see this visually or did the resident disclose?)'] == 'Yes'\n",
    "for ind, row in canvass_4_2[mask].iterrows():\n",
    "    add = row['What is the house number?'].upper().strip() + ' ' + row['What is the street name?'].upper().strip()\n",
    "    res_id = find_or_add_residence(address=add)\n",
    "    name = row['Resident Name']\n",
    "    if name == '':\n",
    "        surv_id = None\n",
    "    else:\n",
    "        surv_id = find_or_add_survivor(name = name, contact_1 = row['Resident phone number'].strip())\n",
    "    create_contact_point(residence_id = res_id, survivor_id = surv_id, date = row['Completion time'],\n",
    "                         intaker='Canvass Volunteer from Hands On Nashville',\n",
    "                         notes1= 'Language: ' + row['Language?'], \n",
    "                         notes2 = 'Requested Assistance: ' + row['Does the resident want volunteers to assist with response?'], \n",
    "                         notes3 ='Specific Needs: ' + row['Does the resident need any of the following?'])"
   ]
  },
  {
   "cell_type": "code",
   "execution_count": 15,
   "id": "44b4ad7a",
   "metadata": {},
   "outputs": [
    {
     "name": "stdout",
     "output_type": "stream",
     "text": [
      "CONTACT POINTS\n",
      "<class 'pandas.core.frame.DataFrame'>\n",
      "RangeIndex: 933 entries, 0 to 932\n",
      "Data columns (total 9 columns):\n",
      " #   Column        Non-Null Count  Dtype         \n",
      "---  ------        --------------  -----         \n",
      " 0   residence_id  933 non-null    object        \n",
      " 1   survivor_id   81 non-null     object        \n",
      " 2   date          933 non-null    datetime64[ns]\n",
      " 3   water_lvl     500 non-null    object        \n",
      " 4   damage_lvl    852 non-null    object        \n",
      " 5   notes1        590 non-null    object        \n",
      " 6   notes2        543 non-null    object        \n",
      " 7   notes3        301 non-null    object        \n",
      " 8   intaker       933 non-null    object        \n",
      "dtypes: datetime64[ns](1), object(8)\n",
      "memory usage: 65.7+ KB\n",
      "\n",
      "RESIDENCES\n",
      "<class 'pandas.core.frame.DataFrame'>\n",
      "RangeIndex: 712 entries, 0 to 711\n",
      "Data columns (total 4 columns):\n",
      " #   Column     Non-Null Count  Dtype  \n",
      "---  ------     --------------  -----  \n",
      " 0   address    712 non-null    object \n",
      " 1   zipcode    712 non-null    object \n",
      " 2   latitude   712 non-null    float64\n",
      " 3   longitude  712 non-null    float64\n",
      "dtypes: float64(2), object(2)\n",
      "memory usage: 22.4+ KB\n",
      "\n",
      "SURVIVORS\n",
      "<class 'pandas.core.frame.DataFrame'>\n",
      "RangeIndex: 79 entries, 0 to 78\n",
      "Data columns (total 1 columns):\n",
      " #   Column  Non-Null Count  Dtype \n",
      "---  ------  --------------  ----- \n",
      " 0   name    79 non-null     object\n",
      "dtypes: object(1)\n",
      "memory usage: 760.0+ bytes\n",
      "\n",
      "CONTACT INFO\n",
      "<class 'pandas.core.frame.DataFrame'>\n",
      "RangeIndex: 99 entries, 0 to 98\n",
      "Data columns (total 2 columns):\n",
      " #   Column        Non-Null Count  Dtype \n",
      "---  ------        --------------  ----- \n",
      " 0   survivor_id   99 non-null     object\n",
      " 1   contact_info  99 non-null     object\n",
      "dtypes: object(2)\n",
      "memory usage: 1.7+ KB\n"
     ]
    },
    {
     "data": {
      "text/plain": [
       "(None, None, None, None, None, None, None, None)"
      ]
     },
     "execution_count": 15,
     "metadata": {},
     "output_type": "execute_result"
    }
   ],
   "source": [
    "print('CONTACT POINTS'), contact_points.info(), print('\\nRESIDENCES'), residences.info(), print('\\nSURVIVORS'), survivors.info(), print('\\nCONTACT INFO'), contact_info.info()"
   ]
  },
  {
   "cell_type": "code",
   "execution_count": 16,
   "id": "e2553e28",
   "metadata": {},
   "outputs": [],
   "source": [
    "nash_responds = pd.read_csv('../data/nash_responds_4_6.csv',\n",
    "                         dtype={'First Name':'object','Last Name':'object','Address 1':'object',\n",
    "                                'Email':'object','Phone':'object','Request Details':'object'})\n",
    "\n",
    "nash_responds = nash_responds.fillna('')\n",
    "nash_responds = nash_responds.drop_duplicates(ignore_index=True)\n",
    "\n",
    "for ind, row in nash_responds.iterrows():\n",
    "    add = row['Address 1'].upper().strip()\n",
    "    res_id = find_or_add_residence(address=add)\n",
    "    name = row['First Name'] + ' ' + row['Last Name']\n",
    "    \n",
    "    if name == ' ':\n",
    "        surv_id = None\n",
    "    else:\n",
    "        surv_id = find_or_add_survivor(name = name, contact_1 = row['Phone'].strip(), contact_2 = row['Email'].strip())\n",
    "    \n",
    "    create_contact_point(residence_id = res_id, survivor_id = surv_id, date = pd.to_datetime('2021-04-06'), \n",
    "                         intaker='Nashville Responds: Self Reported',\n",
    "                         notes1='Request Details: ' + row['Request Details'])"
   ]
  },
  {
   "cell_type": "code",
   "execution_count": 17,
   "id": "2f8a6937",
   "metadata": {},
   "outputs": [
    {
     "name": "stdout",
     "output_type": "stream",
     "text": [
      "CONTACT POINTS\n",
      "<class 'pandas.core.frame.DataFrame'>\n",
      "RangeIndex: 1152 entries, 0 to 1151\n",
      "Data columns (total 9 columns):\n",
      " #   Column        Non-Null Count  Dtype         \n",
      "---  ------        --------------  -----         \n",
      " 0   residence_id  1152 non-null   object        \n",
      " 1   survivor_id   300 non-null    object        \n",
      " 2   date          1152 non-null   datetime64[ns]\n",
      " 3   water_lvl     500 non-null    object        \n",
      " 4   damage_lvl    852 non-null    object        \n",
      " 5   notes1        809 non-null    object        \n",
      " 6   notes2        543 non-null    object        \n",
      " 7   notes3        301 non-null    object        \n",
      " 8   intaker       1152 non-null   object        \n",
      "dtypes: datetime64[ns](1), object(8)\n",
      "memory usage: 81.1+ KB\n",
      "\n",
      "RESIDENCES\n",
      "<class 'pandas.core.frame.DataFrame'>\n",
      "RangeIndex: 746 entries, 0 to 745\n",
      "Data columns (total 4 columns):\n",
      " #   Column     Non-Null Count  Dtype  \n",
      "---  ------     --------------  -----  \n",
      " 0   address    746 non-null    object \n",
      " 1   zipcode    746 non-null    object \n",
      " 2   latitude   746 non-null    float64\n",
      " 3   longitude  746 non-null    float64\n",
      "dtypes: float64(2), object(2)\n",
      "memory usage: 23.4+ KB\n",
      "\n",
      "SURVIVORS\n",
      "<class 'pandas.core.frame.DataFrame'>\n",
      "RangeIndex: 240 entries, 0 to 239\n",
      "Data columns (total 1 columns):\n",
      " #   Column  Non-Null Count  Dtype \n",
      "---  ------  --------------  ----- \n",
      " 0   name    240 non-null    object\n",
      "dtypes: object(1)\n",
      "memory usage: 2.0+ KB\n",
      "\n",
      "CONTACT INFO\n",
      "<class 'pandas.core.frame.DataFrame'>\n",
      "RangeIndex: 459 entries, 0 to 458\n",
      "Data columns (total 2 columns):\n",
      " #   Column        Non-Null Count  Dtype \n",
      "---  ------        --------------  ----- \n",
      " 0   survivor_id   459 non-null    object\n",
      " 1   contact_info  459 non-null    object\n",
      "dtypes: object(2)\n",
      "memory usage: 7.3+ KB\n"
     ]
    },
    {
     "data": {
      "text/plain": [
       "(None, None, None, None, None, None, None, None)"
      ]
     },
     "execution_count": 17,
     "metadata": {},
     "output_type": "execute_result"
    }
   ],
   "source": [
    "print('CONTACT POINTS'), contact_points.info(), print('\\nRESIDENCES'), residences.info(), print('\\nSURVIVORS'), survivors.info(), print('\\nCONTACT INFO'), contact_info.info()"
   ]
  },
  {
   "cell_type": "markdown",
   "id": "c2ed9ae6",
   "metadata": {},
   "source": [
    "survivors.to_csv('../data/survivors_table.csv')\n",
    "residences.to_csv('../data/residences_table.csv')\n",
    "contact_info.to_csv('../contact_info_table.csv')\n",
    "contact_points.to_csv('../data/contact_points_table.csv')"
   ]
  },
  {
   "cell_type": "markdown",
   "id": "768d1078",
   "metadata": {},
   "source": [
    "residences = pd.read_csv('../data/residences_table.csv', usecols=[1,2,3,4])\n",
    "survivors = pd.read_csv('../data/survivors_table.csv', usecols=[1])\n",
    "contact_info = pd.read_csv('../data/contact_info_table.csv',usecols=[1,2], dtype={'survivor_id':'object'})\n",
    "contact_points = pd.read_csv('../data/contact_points_table.csv', usecols=[1,2,3,4,5,6,7,8,9], \n",
    "                             dtype={'residence_id':'object', 'survivor_id':'object'})"
   ]
  },
  {
   "cell_type": "markdown",
   "id": "7e2d8ad3",
   "metadata": {},
   "source": [
    "print('CONTACT POINTS'), contact_points.info(), print('\\nRESIDENCES'), residences.info(), print('\\nSURVIVORS'), survivors.info(), print('\\nCONTACT INFO'), contact_info.info()"
   ]
  },
  {
   "cell_type": "code",
   "execution_count": 18,
   "id": "6f32d600",
   "metadata": {},
   "outputs": [],
   "source": [
    "nerve_3_30 = pd.read_csv('../data/nerve_3_30.csv',\n",
    "                         dtype={'Street Number.':'object','St (Apt)':'object','First':'object','Last':'object',\n",
    "                                'Email':'object','Phone':'object','Damage 1':'object',\n",
    "                                'Damage 2':'object','Column1':'object',})\n",
    "\n",
    "nerve_3_30 = nerve_3_30.fillna('')\n",
    "nerve_3_30 = nerve_3_30.drop_duplicates(ignore_index=True)\n",
    "\n",
    "for ind, row in nerve_3_30.iterrows():\n",
    "    add = row['Street Number'].upper().strip() + ' ' + row['St (Apt)'].upper().strip()\n",
    "    res_id = find_or_add_residence(address=add)\n",
    "    name = row['First'].upper().strip() + ' ' + row['Last'].upper().strip()\n",
    "    \n",
    "    if name == ' ':\n",
    "        surv_id = None\n",
    "    else:\n",
    "        surv_id = find_or_add_survivor(name = name, contact_1 = row['Phone'].strip(), contact_2 = row['Email'].strip())\n",
    "    \n",
    "    create_contact_point(residence_id = res_id, survivor_id = surv_id, date = pd.to_datetime('2021-3-30'), \n",
    "                         damage_lvl = row['Column1'], intaker='NERVE: Self Reported',\n",
    "                         notes1='Damage1: ' + row['Damage 1'], \n",
    "                         notes2 = 'Damage2: ' + row['Damage 2'])"
   ]
  },
  {
   "cell_type": "code",
   "execution_count": 19,
   "id": "47ce88da",
   "metadata": {},
   "outputs": [
    {
     "name": "stdout",
     "output_type": "stream",
     "text": [
      "CONTACT POINTS\n",
      "<class 'pandas.core.frame.DataFrame'>\n",
      "RangeIndex: 1790 entries, 0 to 1789\n",
      "Data columns (total 9 columns):\n",
      " #   Column        Non-Null Count  Dtype         \n",
      "---  ------        --------------  -----         \n",
      " 0   residence_id  1790 non-null   object        \n",
      " 1   survivor_id   927 non-null    object        \n",
      " 2   date          1790 non-null   datetime64[ns]\n",
      " 3   water_lvl     500 non-null    object        \n",
      " 4   damage_lvl    1490 non-null   object        \n",
      " 5   notes1        1447 non-null   object        \n",
      " 6   notes2        1181 non-null   object        \n",
      " 7   notes3        301 non-null    object        \n",
      " 8   intaker       1790 non-null   object        \n",
      "dtypes: datetime64[ns](1), object(8)\n",
      "memory usage: 126.0+ KB\n",
      "\n",
      "RESIDENCES\n",
      "<class 'pandas.core.frame.DataFrame'>\n",
      "RangeIndex: 863 entries, 0 to 862\n",
      "Data columns (total 4 columns):\n",
      " #   Column     Non-Null Count  Dtype  \n",
      "---  ------     --------------  -----  \n",
      " 0   address    863 non-null    object \n",
      " 1   zipcode    863 non-null    object \n",
      " 2   latitude   863 non-null    float64\n",
      " 3   longitude  863 non-null    float64\n",
      "dtypes: float64(2), object(2)\n",
      "memory usage: 27.1+ KB\n",
      "\n",
      "SURVIVORS\n",
      "<class 'pandas.core.frame.DataFrame'>\n",
      "RangeIndex: 616 entries, 0 to 615\n",
      "Data columns (total 1 columns):\n",
      " #   Column  Non-Null Count  Dtype \n",
      "---  ------  --------------  ----- \n",
      " 0   name    616 non-null    object\n",
      "dtypes: object(1)\n",
      "memory usage: 4.9+ KB\n",
      "\n",
      "CONTACT INFO\n",
      "<class 'pandas.core.frame.DataFrame'>\n",
      "RangeIndex: 1555 entries, 0 to 1554\n",
      "Data columns (total 2 columns):\n",
      " #   Column        Non-Null Count  Dtype \n",
      "---  ------        --------------  ----- \n",
      " 0   survivor_id   1555 non-null   object\n",
      " 1   contact_info  1555 non-null   object\n",
      "dtypes: object(2)\n",
      "memory usage: 24.4+ KB\n"
     ]
    },
    {
     "data": {
      "text/plain": [
       "(None, None, None, None, None, None, None, None)"
      ]
     },
     "execution_count": 19,
     "metadata": {},
     "output_type": "execute_result"
    }
   ],
   "source": [
    "print('CONTACT POINTS'), contact_points.info(), print('\\nRESIDENCES'), residences.info(), print('\\nSURVIVORS'), survivors.info(), print('\\nCONTACT INFO'), contact_info.info()"
   ]
  },
  {
   "cell_type": "code",
   "execution_count": 20,
   "id": "f28eb1fe",
   "metadata": {},
   "outputs": [],
   "source": [
    "metro_water_4_12 = pd.read_csv('../data/metro_water_4_12.csv',\n",
    "                         dtype={'Address':'object','Contact Name':'object','Email':'object',\n",
    "                                'Phone':'object','Inspection Notes':'object'})\n",
    "\n",
    "metro_water_4_12 = metro_water_4_12.fillna('')\n",
    "\n",
    "for ind, row in metro_water_4_12.iterrows():\n",
    "    add = row['Address'].upper().strip()\n",
    "    res_id = find_or_add_residence(address=add)\n",
    "    name = row['Contact Name'].upper().strip()\n",
    "    \n",
    "    if name == '':\n",
    "        surv_id = None\n",
    "    else:\n",
    "        surv_id = find_or_add_survivor(name = name, contact_1 = row['Phone'].strip(), contact_2 = row['Email'].strip())\n",
    "    \n",
    "    create_contact_point(residence_id = res_id, survivor_id = surv_id, date = pd.to_datetime('2021-4-12'), \n",
    "                         intaker='Metro Water Inspector', notes1='Inspection Notes: ' + row['Inspection Notes'])"
   ]
  },
  {
   "cell_type": "code",
   "execution_count": 21,
   "id": "05f22baf",
   "metadata": {},
   "outputs": [
    {
     "name": "stdout",
     "output_type": "stream",
     "text": [
      "CONTACT POINTS\n",
      "<class 'pandas.core.frame.DataFrame'>\n",
      "RangeIndex: 1802 entries, 0 to 1801\n",
      "Data columns (total 9 columns):\n",
      " #   Column        Non-Null Count  Dtype         \n",
      "---  ------        --------------  -----         \n",
      " 0   residence_id  1802 non-null   object        \n",
      " 1   survivor_id   936 non-null    object        \n",
      " 2   date          1802 non-null   datetime64[ns]\n",
      " 3   water_lvl     500 non-null    object        \n",
      " 4   damage_lvl    1490 non-null   object        \n",
      " 5   notes1        1459 non-null   object        \n",
      " 6   notes2        1181 non-null   object        \n",
      " 7   notes3        301 non-null    object        \n",
      " 8   intaker       1802 non-null   object        \n",
      "dtypes: datetime64[ns](1), object(8)\n",
      "memory usage: 126.8+ KB\n",
      "\n",
      "RESIDENCES\n",
      "<class 'pandas.core.frame.DataFrame'>\n",
      "RangeIndex: 870 entries, 0 to 869\n",
      "Data columns (total 4 columns):\n",
      " #   Column     Non-Null Count  Dtype  \n",
      "---  ------     --------------  -----  \n",
      " 0   address    870 non-null    object \n",
      " 1   zipcode    870 non-null    object \n",
      " 2   latitude   870 non-null    float64\n",
      " 3   longitude  870 non-null    float64\n",
      "dtypes: float64(2), object(2)\n",
      "memory usage: 27.3+ KB\n",
      "\n",
      "SURVIVORS\n",
      "<class 'pandas.core.frame.DataFrame'>\n",
      "RangeIndex: 624 entries, 0 to 623\n",
      "Data columns (total 1 columns):\n",
      " #   Column  Non-Null Count  Dtype \n",
      "---  ------  --------------  ----- \n",
      " 0   name    624 non-null    object\n",
      "dtypes: object(1)\n",
      "memory usage: 5.0+ KB\n",
      "\n",
      "CONTACT INFO\n",
      "<class 'pandas.core.frame.DataFrame'>\n",
      "RangeIndex: 1566 entries, 0 to 1565\n",
      "Data columns (total 2 columns):\n",
      " #   Column        Non-Null Count  Dtype \n",
      "---  ------        --------------  ----- \n",
      " 0   survivor_id   1566 non-null   object\n",
      " 1   contact_info  1566 non-null   object\n",
      "dtypes: object(2)\n",
      "memory usage: 24.6+ KB\n"
     ]
    },
    {
     "data": {
      "text/plain": [
       "(None, None, None, None, None, None, None, None)"
      ]
     },
     "execution_count": 21,
     "metadata": {},
     "output_type": "execute_result"
    }
   ],
   "source": [
    "print('CONTACT POINTS'), contact_points.info(), print('\\nRESIDENCES'), residences.info(), print('\\nSURVIVORS'), survivors.info(), print('\\nCONTACT INFO'), contact_info.info()"
   ]
  },
  {
   "cell_type": "code",
   "execution_count": 22,
   "id": "d2d5c0ab",
   "metadata": {},
   "outputs": [],
   "source": [
    "hotline = pd.read_csv('../data/hotline.csv', parse_dates=[0],\n",
    "                         dtype={'CC Status/Notes':'object','Name of person requesting help:':'object','Email address:':'object',\n",
    "                                'Phone Number:':'object','Project Details':'object', 'Name of person filling out form:':'object',\n",
    "                               'Type of help needed':'object', 'Language Spoken':'object', 'Address where help is needed:': 'object'})\n",
    "\n",
    "hotline = hotline.fillna('')\n",
    "\n",
    "for ind, row in hotline.iterrows():\n",
    "    add = row['Address where help is needed:'].upper().strip()\n",
    "    res_id = find_or_add_residence(address=add)\n",
    "    name = row['Name of person requesting help:'].upper().strip()\n",
    "    \n",
    "    if name == '':\n",
    "        surv_id = None\n",
    "    else:\n",
    "        surv_id = find_or_add_survivor(name = name, contact_1 = row['Phone Number:'].strip(), contact_2 = row['Email address:'].strip())\n",
    "    \n",
    "    create_contact_point(residence_id = res_id, survivor_id = surv_id, date = row['Timestamp'], \n",
    "                         intaker='Hotline: '+row['Name of person filling out form:'], \n",
    "                         notes1='Notes: ' + row['CC Status/Notes'], notes2='Details: '+row['Type of help needed'] + '\\n' + row['Project Details'])"
   ]
  },
  {
   "cell_type": "code",
   "execution_count": 23,
   "id": "9109284c",
   "metadata": {},
   "outputs": [
    {
     "name": "stdout",
     "output_type": "stream",
     "text": [
      "CONTACT POINTS\n",
      "<class 'pandas.core.frame.DataFrame'>\n",
      "RangeIndex: 1999 entries, 0 to 1998\n",
      "Data columns (total 9 columns):\n",
      " #   Column        Non-Null Count  Dtype \n",
      "---  ------        --------------  ----- \n",
      " 0   residence_id  1999 non-null   object\n",
      " 1   survivor_id   1033 non-null   object\n",
      " 2   date          1999 non-null   object\n",
      " 3   water_lvl     500 non-null    object\n",
      " 4   damage_lvl    1490 non-null   object\n",
      " 5   notes1        1656 non-null   object\n",
      " 6   notes2        1378 non-null   object\n",
      " 7   notes3        301 non-null    object\n",
      " 8   intaker       1999 non-null   object\n",
      "dtypes: object(9)\n",
      "memory usage: 140.7+ KB\n",
      "\n",
      "RESIDENCES\n",
      "<class 'pandas.core.frame.DataFrame'>\n",
      "RangeIndex: 885 entries, 0 to 884\n",
      "Data columns (total 4 columns):\n",
      " #   Column     Non-Null Count  Dtype  \n",
      "---  ------     --------------  -----  \n",
      " 0   address    885 non-null    object \n",
      " 1   zipcode    885 non-null    object \n",
      " 2   latitude   885 non-null    float64\n",
      " 3   longitude  885 non-null    float64\n",
      "dtypes: float64(2), object(2)\n",
      "memory usage: 27.8+ KB\n",
      "\n",
      "SURVIVORS\n",
      "<class 'pandas.core.frame.DataFrame'>\n",
      "RangeIndex: 650 entries, 0 to 649\n",
      "Data columns (total 1 columns):\n",
      " #   Column  Non-Null Count  Dtype \n",
      "---  ------  --------------  ----- \n",
      " 0   name    650 non-null    object\n",
      "dtypes: object(1)\n",
      "memory usage: 5.2+ KB\n",
      "\n",
      "CONTACT INFO\n",
      "<class 'pandas.core.frame.DataFrame'>\n",
      "RangeIndex: 1735 entries, 0 to 1734\n",
      "Data columns (total 2 columns):\n",
      " #   Column        Non-Null Count  Dtype \n",
      "---  ------        --------------  ----- \n",
      " 0   survivor_id   1735 non-null   object\n",
      " 1   contact_info  1735 non-null   object\n",
      "dtypes: object(2)\n",
      "memory usage: 27.2+ KB\n"
     ]
    },
    {
     "data": {
      "text/html": [
       "\n",
       "                <audio  controls=\"controls\" autoplay=\"autoplay\">\n",
       "                    <source src=\"../data/Hugo Wow.mp3\" type=\"audio/mpeg\" />\n",
       "                    Your browser does not support the audio element.\n",
       "                </audio>\n",
       "              "
      ],
      "text/plain": [
       "<IPython.lib.display.Audio object>"
      ]
     },
     "execution_count": 23,
     "metadata": {},
     "output_type": "execute_result"
    }
   ],
   "source": [
    "print('CONTACT POINTS'), contact_points.info(), print('\\nRESIDENCES'), residences.info(), print('\\nSURVIVORS'), survivors.info(), print('\\nCONTACT INFO'), contact_info.info()\n",
    "\n",
    "finished"
   ]
  },
  {
   "cell_type": "code",
   "execution_count": 26,
   "id": "7c502ff1",
   "metadata": {},
   "outputs": [],
   "source": [
    "survivors.to_csv('../data/survivors_table.csv')\n",
    "residences.to_csv('../data/residences_table.csv')\n",
    "contact_info.to_csv('../data/contact_info_table.csv')\n",
    "contact_points.to_csv('../data/contact_points_table.csv')"
   ]
  },
  {
   "cell_type": "code",
   "execution_count": null,
   "id": "4a106f0d",
   "metadata": {},
   "outputs": [],
   "source": []
  },
  {
   "cell_type": "code",
   "execution_count": null,
   "id": "c2ffc5c6",
   "metadata": {},
   "outputs": [],
   "source": []
  }
 ],
 "metadata": {
  "kernelspec": {
   "display_name": "Python 3",
   "language": "python",
   "name": "python3"
  },
  "language_info": {
   "codemirror_mode": {
    "name": "ipython",
    "version": 3
   },
   "file_extension": ".py",
   "mimetype": "text/x-python",
   "name": "python",
   "nbconvert_exporter": "python",
   "pygments_lexer": "ipython3",
   "version": "3.8.5"
  }
 },
 "nbformat": 4,
 "nbformat_minor": 5
}
