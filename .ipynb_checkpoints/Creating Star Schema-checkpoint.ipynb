{
 "cells": [
  {
   "cell_type": "code",
   "execution_count": 1,
   "id": "ff2a47e3",
   "metadata": {},
   "outputs": [],
   "source": [
    "import pandas as pd\n",
    "import numpy as np"
   ]
  },
  {
   "cell_type": "code",
   "execution_count": 2,
   "id": "212369b5",
   "metadata": {},
   "outputs": [],
   "source": [
    "residences = pd.DataFrame(columns=['address', 'zipcode', 'latitude', 'longitude'])\n",
    "\n",
    "survivors = pd.DataFrame(columns=['name', 'contact_1', 'contact_2', 'contact_3'])\n",
    "\n",
    "contact_points = pd.DataFrame(columns = ['residence_id', 'survivor_id', 'date', \n",
    "                                         'water_lvl', 'damage_lvl', 'notes1', 'notes2', \n",
    "                                         'notes3', 'intaker'])"
   ]
  },
  {
   "cell_type": "code",
   "execution_count": 3,
   "id": "dca57131",
   "metadata": {
    "scrolled": true
   },
   "outputs": [],
   "source": [
    "def find_or_add_residence(**kwargs):\n",
    "    global residences\n",
    "    if kwargs['address'] in residences['address'].values:\n",
    "        res_id = residences.loc[residences['address']==kwargs['address']].index.tolist()[0]\n",
    "    else:\n",
    "        residences = residences.append(kwargs,ignore_index=True)\n",
    "        res_id = residences.shape[0] - 1\n",
    "    return res_id "
   ]
  },
  {
   "cell_type": "code",
   "execution_count": 4,
   "id": "00985fc5",
   "metadata": {},
   "outputs": [],
   "source": [
    "def find_or_add_survivor(**kwargs):\n",
    "    global survivors\n",
    "    if kwargs['name'] in survivors['name'].values:\n",
    "        surv_id = survivors.loc[survivors['name']==kwargs['name']].index.tolist()[0]\n",
    "#         for k, v in kwargs.items():\n",
    "#             if v in survivors.loc[survivors['name']==kwargs['name']].values:\n",
    "#                 print('yay')\n",
    "#                 continue\n",
    "#             else:\n",
    "#                 for ind, val in survivors.loc[survivors['name']==kwargs['name']].iteritems():\n",
    "#                     if val.isna().any():\n",
    "#                         survivors.loc[survivors['name']==kwargs['name'], ind] = v\n",
    "#                         break\n",
    "    else:\n",
    "        survivors = survivors.append(kwargs,ignore_index=True)\n",
    "        surv_id = survivors.shape[0] - 1\n",
    "    return surv_id\n",
    "        "
   ]
  },
  {
   "cell_type": "code",
   "execution_count": 5,
   "id": "0fb1a566",
   "metadata": {},
   "outputs": [],
   "source": [
    "def create_contact_point(**kwargs):\n",
    "    global contact_points\n",
    "    contact_points = contact_points.append(kwargs, ignore_index=True)\n",
    "\n",
    "    "
   ]
  },
  {
   "cell_type": "code",
   "execution_count": 6,
   "id": "99ceff48",
   "metadata": {},
   "outputs": [],
   "source": [
    "nash_codes = pd.read_csv('../data/CodesDamageAssessment_4_15_21.csv', parse_dates=['CreationDate'], \n",
    "                         dtype={'Address':'object','Extent of Damage':'object','Type of Structure':'object',\n",
    "                                'Water Level':'float64','Note':'object','Creator':'object'})\n",
    "nash_codes = nash_codes.dropna(subset=['Address'])\n",
    "nash_codes = nash_codes.drop_duplicates(ignore_index=True)\n",
    "\n",
    "mask = (nash_codes['Type of Structure']=='Residential') & (nash_codes['Extent of Damage'] != 'None')\n",
    "for ind, row in nash_codes[mask].iterrows():\n",
    "    add = row['Address'].upper().strip()\n",
    "    res_id = find_or_add_residence(address=add)\n",
    "    surv_id = None\n",
    "    create_contact_point(residence_id = res_id, survivor_id = surv_id, \n",
    "                         date = row['CreationDate'], water_lvl = row['Water Level'], \n",
    "                         damage_lvl = row['Extent of Damage'], notes1=row['Notes'], \n",
    "                         intaker='Nashville Codes: ' + row['Creator'])"
   ]
  },
  {
   "cell_type": "code",
   "execution_count": 7,
   "id": "9b62faf3",
   "metadata": {},
   "outputs": [],
   "source": [
    "oem = pd.read_csv('../data/OEM_4_12_21.csv', \n",
    "                         dtype={'PropHouse':'object','PropZip':'object','PropStreet':'object',\n",
    "                                'Extent of Damage':'object','Water Level':'object','Notes':'object',\n",
    "                                'Damage 2':'object'})\n",
    "\n",
    "oem = oem.fillna('')\n",
    "oem = oem.drop_duplicates(ignore_index=True)\n",
    "\n",
    "mask = oem['Extent of Damage'] != 'None'\n",
    "for ind, row in oem[mask].iterrows():\n",
    "    add = row['PropHouse'].upper().strip() + ' ' + row['PropStreet'].upper().strip()\n",
    "    res_id = find_or_add_residence(address=add)\n",
    "    surv_id = None\n",
    "    create_contact_point(residence_id = res_id, survivor_id = surv_id, date = pd.to_datetime('2021-04-12'), \n",
    "                         water_lvl = row['Water Level'], damage_lvl = row['Extent of Damage'], \n",
    "                         notes1='NOTES: '+row['Notes'], notes2='DAMAGE 2: ' + row['Damage 2'], intaker='OEM')"
   ]
  },
  {
   "cell_type": "code",
   "execution_count": 8,
   "id": "e2050378",
   "metadata": {},
   "outputs": [],
   "source": [
    "nerve_4_9 = pd.read_csv('../data/NERVE_040921.csv', parse_dates=[10],\n",
    "                         dtype={'Street No.':'object','Street':'object','First Name':'object','Last Name':'object',\n",
    "                                'Email':'object','Phone Number':'object','Structure Damage Level':'object',\n",
    "                                'Property Damage Described':'object','Comments':'object',\n",
    "                                'Other - Property Damage Described':'object'})\n",
    "nerve_4_9 = nerve_4_9.fillna('')\n",
    "nerve_4_9 = nerve_4_9.drop_duplicates(ignore_index=True)\n",
    "\n",
    "for ind, row in nerve_4_9.iterrows():\n",
    "    add = row['Street No.'].upper().strip() + ' ' + row['Street'].upper().strip()\n",
    "    res_id = find_or_add_residence(address=add)\n",
    "    name = row['First Name'].upper().strip() + ' ' + row['Last Name'].upper().strip()\n",
    "    \n",
    "    if name == ' ':\n",
    "        surv_id = None\n",
    "    else:\n",
    "        surv_id = find_or_add_survivor(name = name, contact_1 = row['Phone Number'].strip(), contact_2 = row['Email'].strip())\n",
    "    \n",
    "    create_contact_point(residence_id = res_id, survivor_id = surv_id, date = row['CreationDate'], \n",
    "                         damage_lvl = row['Structure Damage Level'], intaker='NERVE: Self Reported',\n",
    "                         notes1='Property Damage Described: ' + row['Property Damage Described'], \n",
    "                         notes2 = 'Comments:' + row['Comments'], \n",
    "                         notes3 = 'Other - Property Damage Described: ' + row['Other - Property Damage Described'])"
   ]
  },
  {
   "cell_type": "code",
   "execution_count": 9,
   "id": "191f6c4d",
   "metadata": {},
   "outputs": [
    {
     "name": "stdout",
     "output_type": "stream",
     "text": [
      "<class 'pandas.core.frame.DataFrame'>\n",
      "RangeIndex: 852 entries, 0 to 851\n",
      "Data columns (total 9 columns):\n",
      " #   Column        Non-Null Count  Dtype         \n",
      "---  ------        --------------  -----         \n",
      " 0   residence_id  852 non-null    object        \n",
      " 1   survivor_id   26 non-null     object        \n",
      " 2   date          852 non-null    datetime64[ns]\n",
      " 3   water_lvl     500 non-null    object        \n",
      " 4   damage_lvl    852 non-null    object        \n",
      " 5   notes1        509 non-null    object        \n",
      " 6   notes2        462 non-null    object        \n",
      " 7   notes3        220 non-null    object        \n",
      " 8   intaker       852 non-null    object        \n",
      "dtypes: datetime64[ns](1), object(8)\n",
      "memory usage: 60.0+ KB\n"
     ]
    }
   ],
   "source": [
    "contact_points.info()"
   ]
  },
  {
   "cell_type": "code",
   "execution_count": 10,
   "id": "363fe377",
   "metadata": {},
   "outputs": [],
   "source": [
    "canvass_3_30 = pd.read_csv('../data/canvass_3_30.csv',\n",
    "                         dtype={'Street Number':'object','Street Name':'object','Name':'object',\n",
    "                                'Language Preference':'object','Saturday Help':'object',\n",
    "                                'Phone Number':'object','Notes':'object'})\n",
    "canvass_3_30 = canvass_3_30.fillna('')\n",
    "canvass_3_30 = canvass_3_30.drop_duplicates(ignore_index=True)\n",
    "\n",
    "for ind, row in canvass_3_30.iterrows():\n",
    "    add = row['Street Number'].upper().strip() + ' ' + row['Street Name'].upper().strip()\n",
    "    res_id = find_or_add_residence(address=add)\n",
    "    name = row['Name'].upper().strip()\n",
    "    if name == '':\n",
    "        surv_id = None\n",
    "    else:\n",
    "        surv_id = find_or_add_survivor(name = name, contact_1 = row['Phone Number'].strip())\n",
    "    create_contact_point(residence_id = res_id, survivor_id = surv_id, date = pd.to_datetime('2021-03-31'),\n",
    "                         intaker='Canvass Volunteer from Hands On Nashville',\n",
    "                         notes1= 'Language Preference: ' + row['Language Preference'], \n",
    "                         notes2 = 'Notes' + row['Notes'], \n",
    "                         notes3 ='Followup: ' + row['Saturday Help'])"
   ]
  },
  {
   "cell_type": "code",
   "execution_count": null,
   "id": "2c540b3a",
   "metadata": {},
   "outputs": [],
   "source": []
  },
  {
   "cell_type": "code",
   "execution_count": 11,
   "id": "240b52a8",
   "metadata": {},
   "outputs": [
    {
     "name": "stdout",
     "output_type": "stream",
     "text": [
      "<class 'pandas.core.frame.DataFrame'>\n",
      "RangeIndex: 891 entries, 0 to 890\n",
      "Data columns (total 9 columns):\n",
      " #   Column        Non-Null Count  Dtype         \n",
      "---  ------        --------------  -----         \n",
      " 0   residence_id  891 non-null    object        \n",
      " 1   survivor_id   59 non-null     object        \n",
      " 2   date          891 non-null    datetime64[ns]\n",
      " 3   water_lvl     500 non-null    object        \n",
      " 4   damage_lvl    852 non-null    object        \n",
      " 5   notes1        548 non-null    object        \n",
      " 6   notes2        501 non-null    object        \n",
      " 7   notes3        259 non-null    object        \n",
      " 8   intaker       891 non-null    object        \n",
      "dtypes: datetime64[ns](1), object(8)\n",
      "memory usage: 62.8+ KB\n"
     ]
    }
   ],
   "source": [
    "contact_points.info()"
   ]
  },
  {
   "cell_type": "code",
   "execution_count": 12,
   "id": "2a7da480",
   "metadata": {},
   "outputs": [],
   "source": [
    "canvass_4_2 = pd.read_csv('../data/canvass_4_2.csv', parse_dates=[2],\n",
    "                         dtype={'What is the house number?':'object','What is the street name?':'object',\n",
    "                                'Is there visible debris on the property?':'object','Resident Name':'object',\n",
    "                                'Resident phone number':'object','Language?':'object',\n",
    "                                'Was the home impacted? (Either can you see this visually or did the resident disclose?)':'object',\n",
    "                                'Does the resident want volunteers to assist with response?':'object',\n",
    "                                'Does the resident need any of the following?':'object'})\n",
    "\n",
    "canvass_4_2 = canvass_4_2.fillna('')\n",
    "canvass_4_2 = canvass_4_2.drop_duplicates(ignore_index=True)\n",
    "\n",
    "\n",
    "mask = canvass_4_2['Was the home impacted? (Either can you see this visually or did the resident disclose?)'] == 'Yes'\n",
    "for ind, row in canvass_4_2[mask].iterrows():\n",
    "    add = row['What is the house number?'].upper().strip() + ' ' + row['What is the street name?'].upper().strip()\n",
    "    res_id = find_or_add_residence(address=add)\n",
    "    name = row['Resident Name'].upper().strip()\n",
    "    if name == '':\n",
    "        surv_id = None\n",
    "    else:\n",
    "        surv_id = find_or_add_survivor(name = name, contact_1 = row['Resident phone number'].strip())\n",
    "    create_contact_point(residence_id = res_id, survivor_id = surv_id, date = row['Completion time'],\n",
    "                         intaker='Canvass Volunteer from Hands On Nashville',\n",
    "                         notes1= 'Language: ' + row['Language?'], \n",
    "                         notes2 = 'Requested Assistance: ' + row['Does the resident want volunteers to assist with response?'], \n",
    "                         notes3 ='Specific Needs: ' + row['Does the resident need any of the following?'])"
   ]
  },
  {
   "cell_type": "code",
   "execution_count": 13,
   "id": "480ced68",
   "metadata": {},
   "outputs": [],
   "source": [
    "nash_responds = pd.read_csv('../data/nash_responds_4_6.csv',\n",
    "                         dtype={'First Name':'object','Last Name':'object','Address 1':'object',\n",
    "                                'Email':'object','Phone':'object','Request Details':'object'})\n",
    "nash_responds = nash_responds.drop_duplicates(ignore_index=True)\n",
    "\n",
    "\n",
    "\n",
    "for ind, row in nash_responds.iterrows():\n",
    "    add = row['Address 1'].upper().strip()\n",
    "    res_id = find_or_add_residence(address=add)\n",
    "    name = row['First Name'].upper().strip() + ' ' + row['Last Name'].upper().strip()\n",
    "    \n",
    "    if name == ' ':\n",
    "        surv_id = None\n",
    "    else:\n",
    "        surv_id = find_or_add_survivor(name = name, contact_1 = row['Phone'].strip(), contact_2 = row['Email'])\n",
    "    \n",
    "    create_contact_point(residence_id = res_id, survivor_id = surv_id, date = pd.to_datetime('2021-04-06'), \n",
    "                         intaker='Nashville Responds: Self Reported',\n",
    "                         notes1='Request Details: ' + row['Request Details'])"
   ]
  },
  {
   "cell_type": "code",
   "execution_count": 28,
   "id": "5fe292a3",
   "metadata": {},
   "outputs": [
    {
     "data": {
      "text/plain": [
       "300"
      ]
     },
     "execution_count": 28,
     "metadata": {},
     "output_type": "execute_result"
    }
   ],
   "source": [
    "contact_points['damage_lvl'].isna().sum()"
   ]
  },
  {
   "cell_type": "code",
   "execution_count": 26,
   "id": "eb1d4539",
   "metadata": {},
   "outputs": [
    {
     "data": {
      "text/html": [
       "<div>\n",
       "<style scoped>\n",
       "    .dataframe tbody tr th:only-of-type {\n",
       "        vertical-align: middle;\n",
       "    }\n",
       "\n",
       "    .dataframe tbody tr th {\n",
       "        vertical-align: top;\n",
       "    }\n",
       "\n",
       "    .dataframe thead th {\n",
       "        text-align: right;\n",
       "    }\n",
       "</style>\n",
       "<table border=\"1\" class=\"dataframe\">\n",
       "  <thead>\n",
       "    <tr style=\"text-align: right;\">\n",
       "      <th></th>\n",
       "      <th>name</th>\n",
       "      <th>contact_1</th>\n",
       "      <th>contact_2</th>\n",
       "      <th>contact_3</th>\n",
       "    </tr>\n",
       "  </thead>\n",
       "  <tbody>\n",
       "  </tbody>\n",
       "</table>\n",
       "</div>"
      ],
      "text/plain": [
       "Empty DataFrame\n",
       "Columns: [name, contact_1, contact_2, contact_3]\n",
       "Index: []"
      ]
     },
     "execution_count": 26,
     "metadata": {},
     "output_type": "execute_result"
    }
   ],
   "source": [
    "survivors[survivors['name'] == 'DEBORAH GAINS']"
   ]
  },
  {
   "cell_type": "code",
   "execution_count": null,
   "id": "7059faef",
   "metadata": {},
   "outputs": [],
   "source": []
  },
  {
   "cell_type": "code",
   "execution_count": null,
   "id": "1d18ce70",
   "metadata": {},
   "outputs": [],
   "source": []
  },
  {
   "cell_type": "code",
   "execution_count": null,
   "id": "03c7156e",
   "metadata": {},
   "outputs": [],
   "source": []
  }
 ],
 "metadata": {
  "kernelspec": {
   "display_name": "Python 3",
   "language": "python",
   "name": "python3"
  },
  "language_info": {
   "codemirror_mode": {
    "name": "ipython",
    "version": 3
   },
   "file_extension": ".py",
   "mimetype": "text/x-python",
   "name": "python",
   "nbconvert_exporter": "python",
   "pygments_lexer": "ipython3",
   "version": "3.8.10"
  }
 },
 "nbformat": 4,
 "nbformat_minor": 5
}
